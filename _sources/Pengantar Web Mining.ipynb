{
 "cells": [
  {
   "cell_type": "markdown",
   "id": "1c0a410b",
   "metadata": {},
   "source": [
    "# Pengantar Web Mining"
   ]
  },
  {
   "cell_type": "markdown",
   "id": "35902755",
   "metadata": {},
   "source": [
    "**Web Mining** adalah disiplin ilmu yang kuat untuk mengungkap wawasan tersembunyi dari data web yang masif. Ketiga kategorinya — konten, struktur, dan penggunaan — bekerja sama untuk mendukung aplikasi seperti mesin pencari, sistem rekomendasi, dan intelijen bisnis, menjadikannya bidang yang krusial dalam dunia data modern.\""
   ]
  }
 ],
 "metadata": {
  "language_info": {
   "name": "python"
  }
 },
 "nbformat": 4,
 "nbformat_minor": 5
}
