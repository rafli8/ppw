{
 "cells": [
  {
   "cell_type": "markdown",
   "id": "06f803b1",
   "metadata": {},
   "source": [
    "# Profile\n",
    "\n",
    "## Bio\n",
    "\n",
    "Nama: Afrizal Rafli\n",
    "\n",
    "Nim: 230411100144\n",
    "\n",
    "email: afrizal.rafli97@gmail.com"
   ]
  }
 ],
 "metadata": {
  "language_info": {
   "name": "python"
  }
 },
 "nbformat": 4,
 "nbformat_minor": 5
}
