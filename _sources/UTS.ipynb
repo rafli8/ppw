{
  "nbformat": 4,
  "nbformat_minor": 0,
  "metadata": {
    "colab": {
      "provenance": []
    },
    "kernelspec": {
      "name": "python3",
      "display_name": "Python 3"
    },
    "language_info": {
      "name": "python"
    }
  },
  "cells": [
    {
      "cell_type": "markdown",
      "source": [
        "# No 1: Analisis Klasifikasi Berita (Berita.csv)"
      ],
      "metadata": {
        "id": "0-wXMFOD_9C0"
      }
    },
    {
      "cell_type": "markdown",
      "source": [
        "## Import Library\n",
        "Menggunakan library umum untuk pemrosesan data dan machine learning."
      ],
      "metadata": {
        "id": "4rihuXftAXJc"
      }
    },
    {
      "cell_type": "code",
      "source": [
        "import pandas as pd\n",
        "import numpy as np\n",
        "import re # Untuk regular expressions\n",
        "from sklearn.feature_extraction.text import TfidfVectorizer\n",
        "from sklearn.model_selection import train_test_split\n",
        "from sklearn.naive_bayes import MultinomialNB\n",
        "from sklearn.svm import SVC\n",
        "from sklearn.metrics import accuracy_score, classification_report, confusion_matrix\n",
        "from sklearn.decomposition import LatentDirichletAllocation\n",
        "import nltk\n",
        "from nltk.corpus import stopwords\n",
        "from nltk.tokenize import word_tokenize\n",
        "# Tambahkan jika ingin menggunakan NLTK untuk preprocessing\n",
        "# nltk.download('punkt')\n",
        "# nltk.download('stopwords')\n",
        "\n",
        "# Untuk menampilkan output lebih rapi\n",
        "import warnings\n",
        "warnings.filterwarnings('ignore')"
      ],
      "metadata": {
        "id": "W5ghgzo-__zn"
      },
      "execution_count": 1,
      "outputs": []
    },
    {
      "cell_type": "markdown",
      "source": [
        "## Load Data\n",
        "\n"
      ],
      "metadata": {
        "id": "X3iG3xyTAJoM"
      }
    },
    {
      "cell_type": "code",
      "source": [
        "# Load data dari file CSV\n",
        "# Menggunakan google.colab.files untuk menampilkan pop-up upload file\n",
        "from google.colab import files\n",
        "import io\n",
        "\n",
        "uploaded = files.upload()\n",
        "\n",
        "# Asumsikan hanya satu file yang diupload\n",
        "for fn in uploaded.keys():\n",
        "  print('User uploaded file \"{name}\" with length {length} bytes'.format(\n",
        "      name=fn, length=len(uploaded[fn])))\n",
        "  # Karena file memiliki header, kita bisa membacanya langsung tanpa header=None\n",
        "  df_berita = pd.read_csv(io.StringIO(uploaded[fn].decode('utf-8')))\n",
        "\n",
        "\n",
        "# Beri nama kolom berdasarkan struktur yang dilihat sebelumnya\n",
        "# Kolom 0: No, Kolom 1: judul, Kolom 2: berita, Kolom 3: tanggal, Kolom 4: kategori, Kolom 5: link\n",
        "# Jika Anda ingin mengganti nama kolom yang sudah ada, gunakan rename\n",
        "df_berita.columns = ['No', 'judul', 'isi_berita', 'tanggal', 'kategori', 'url']\n",
        "\n",
        "\n",
        "print(\"Ukuran Data:\", df_berita.shape)\n",
        "print(\"\\nTampilan Awal Data:\")\n",
        "print(df_berita.head())\n",
        "\n",
        "print(\"\\nJumlah data per kategori:\")\n",
        "print(df_berita['kategori'].value_counts())"
      ],
      "metadata": {
        "colab": {
          "base_uri": "https://localhost:8080/",
          "height": 785
        },
        "id": "lra_RX63AwrU",
        "outputId": "95b2f147-901a-4aa0-972c-024a611f80a8"
      },
      "execution_count": 5,
      "outputs": [
        {
          "output_type": "display_data",
          "data": {
            "text/plain": [
              "<IPython.core.display.HTML object>"
            ],
            "text/html": [
              "\n",
              "     <input type=\"file\" id=\"files-001a68dc-a9a2-4657-b012-8e30f6d189bb\" name=\"files[]\" multiple disabled\n",
              "        style=\"border:none\" />\n",
              "     <output id=\"result-001a68dc-a9a2-4657-b012-8e30f6d189bb\">\n",
              "      Upload widget is only available when the cell has been executed in the\n",
              "      current browser session. Please rerun this cell to enable.\n",
              "      </output>\n",
              "      <script>// Copyright 2017 Google LLC\n",
              "//\n",
              "// Licensed under the Apache License, Version 2.0 (the \"License\");\n",
              "// you may not use this file except in compliance with the License.\n",
              "// You may obtain a copy of the License at\n",
              "//\n",
              "//      http://www.apache.org/licenses/LICENSE-2.0\n",
              "//\n",
              "// Unless required by applicable law or agreed to in writing, software\n",
              "// distributed under the License is distributed on an \"AS IS\" BASIS,\n",
              "// WITHOUT WARRANTIES OR CONDITIONS OF ANY KIND, either express or implied.\n",
              "// See the License for the specific language governing permissions and\n",
              "// limitations under the License.\n",
              "\n",
              "/**\n",
              " * @fileoverview Helpers for google.colab Python module.\n",
              " */\n",
              "(function(scope) {\n",
              "function span(text, styleAttributes = {}) {\n",
              "  const element = document.createElement('span');\n",
              "  element.textContent = text;\n",
              "  for (const key of Object.keys(styleAttributes)) {\n",
              "    element.style[key] = styleAttributes[key];\n",
              "  }\n",
              "  return element;\n",
              "}\n",
              "\n",
              "// Max number of bytes which will be uploaded at a time.\n",
              "const MAX_PAYLOAD_SIZE = 100 * 1024;\n",
              "\n",
              "function _uploadFiles(inputId, outputId) {\n",
              "  const steps = uploadFilesStep(inputId, outputId);\n",
              "  const outputElement = document.getElementById(outputId);\n",
              "  // Cache steps on the outputElement to make it available for the next call\n",
              "  // to uploadFilesContinue from Python.\n",
              "  outputElement.steps = steps;\n",
              "\n",
              "  return _uploadFilesContinue(outputId);\n",
              "}\n",
              "\n",
              "// This is roughly an async generator (not supported in the browser yet),\n",
              "// where there are multiple asynchronous steps and the Python side is going\n",
              "// to poll for completion of each step.\n",
              "// This uses a Promise to block the python side on completion of each step,\n",
              "// then passes the result of the previous step as the input to the next step.\n",
              "function _uploadFilesContinue(outputId) {\n",
              "  const outputElement = document.getElementById(outputId);\n",
              "  const steps = outputElement.steps;\n",
              "\n",
              "  const next = steps.next(outputElement.lastPromiseValue);\n",
              "  return Promise.resolve(next.value.promise).then((value) => {\n",
              "    // Cache the last promise value to make it available to the next\n",
              "    // step of the generator.\n",
              "    outputElement.lastPromiseValue = value;\n",
              "    return next.value.response;\n",
              "  });\n",
              "}\n",
              "\n",
              "/**\n",
              " * Generator function which is called between each async step of the upload\n",
              " * process.\n",
              " * @param {string} inputId Element ID of the input file picker element.\n",
              " * @param {string} outputId Element ID of the output display.\n",
              " * @return {!Iterable<!Object>} Iterable of next steps.\n",
              " */\n",
              "function* uploadFilesStep(inputId, outputId) {\n",
              "  const inputElement = document.getElementById(inputId);\n",
              "  inputElement.disabled = false;\n",
              "\n",
              "  const outputElement = document.getElementById(outputId);\n",
              "  outputElement.innerHTML = '';\n",
              "\n",
              "  const pickedPromise = new Promise((resolve) => {\n",
              "    inputElement.addEventListener('change', (e) => {\n",
              "      resolve(e.target.files);\n",
              "    });\n",
              "  });\n",
              "\n",
              "  const cancel = document.createElement('button');\n",
              "  inputElement.parentElement.appendChild(cancel);\n",
              "  cancel.textContent = 'Cancel upload';\n",
              "  const cancelPromise = new Promise((resolve) => {\n",
              "    cancel.onclick = () => {\n",
              "      resolve(null);\n",
              "    };\n",
              "  });\n",
              "\n",
              "  // Wait for the user to pick the files.\n",
              "  const files = yield {\n",
              "    promise: Promise.race([pickedPromise, cancelPromise]),\n",
              "    response: {\n",
              "      action: 'starting',\n",
              "    }\n",
              "  };\n",
              "\n",
              "  cancel.remove();\n",
              "\n",
              "  // Disable the input element since further picks are not allowed.\n",
              "  inputElement.disabled = true;\n",
              "\n",
              "  if (!files) {\n",
              "    return {\n",
              "      response: {\n",
              "        action: 'complete',\n",
              "      }\n",
              "    };\n",
              "  }\n",
              "\n",
              "  for (const file of files) {\n",
              "    const li = document.createElement('li');\n",
              "    li.append(span(file.name, {fontWeight: 'bold'}));\n",
              "    li.append(span(\n",
              "        `(${file.type || 'n/a'}) - ${file.size} bytes, ` +\n",
              "        `last modified: ${\n",
              "            file.lastModifiedDate ? file.lastModifiedDate.toLocaleDateString() :\n",
              "                                    'n/a'} - `));\n",
              "    const percent = span('0% done');\n",
              "    li.appendChild(percent);\n",
              "\n",
              "    outputElement.appendChild(li);\n",
              "\n",
              "    const fileDataPromise = new Promise((resolve) => {\n",
              "      const reader = new FileReader();\n",
              "      reader.onload = (e) => {\n",
              "        resolve(e.target.result);\n",
              "      };\n",
              "      reader.readAsArrayBuffer(file);\n",
              "    });\n",
              "    // Wait for the data to be ready.\n",
              "    let fileData = yield {\n",
              "      promise: fileDataPromise,\n",
              "      response: {\n",
              "        action: 'continue',\n",
              "      }\n",
              "    };\n",
              "\n",
              "    // Use a chunked sending to avoid message size limits. See b/62115660.\n",
              "    let position = 0;\n",
              "    do {\n",
              "      const length = Math.min(fileData.byteLength - position, MAX_PAYLOAD_SIZE);\n",
              "      const chunk = new Uint8Array(fileData, position, length);\n",
              "      position += length;\n",
              "\n",
              "      const base64 = btoa(String.fromCharCode.apply(null, chunk));\n",
              "      yield {\n",
              "        response: {\n",
              "          action: 'append',\n",
              "          file: file.name,\n",
              "          data: base64,\n",
              "        },\n",
              "      };\n",
              "\n",
              "      let percentDone = fileData.byteLength === 0 ?\n",
              "          100 :\n",
              "          Math.round((position / fileData.byteLength) * 100);\n",
              "      percent.textContent = `${percentDone}% done`;\n",
              "\n",
              "    } while (position < fileData.byteLength);\n",
              "  }\n",
              "\n",
              "  // All done.\n",
              "  yield {\n",
              "    response: {\n",
              "      action: 'complete',\n",
              "    }\n",
              "  };\n",
              "}\n",
              "\n",
              "scope.google = scope.google || {};\n",
              "scope.google.colab = scope.google.colab || {};\n",
              "scope.google.colab._files = {\n",
              "  _uploadFiles,\n",
              "  _uploadFilesContinue,\n",
              "};\n",
              "})(self);\n",
              "</script> "
            ]
          },
          "metadata": {}
        },
        {
          "output_type": "stream",
          "name": "stdout",
          "text": [
            "Saving Berita.csv to Berita (1).csv\n",
            "User uploaded file \"Berita (1).csv\" with length 3941868 bytes\n",
            "Ukuran Data: (1500, 6)\n",
            "\n",
            "Tampilan Awal Data:\n",
            "   No                                              judul  \\\n",
            "0   1  Airlangga Harap Kenaikan UMP Tingkatkan Daya B...   \n",
            "1   2  PT SIER Beri Penghargaan untuk 50 Tenant Terba...   \n",
            "2   3  Prabowo Bakal Bentuk Kementerian Penerimaan Ne...   \n",
            "3   4  Sinergi Kemenag & BPJS Ketenagakerjaan Lindung...   \n",
            "4   5  Pemerintah Segera Bentuk Satgas PHK Usai Tetap...   \n",
            "\n",
            "                                          isi_berita  \\\n",
            "0  Menteri Koordinator (Menko) Bidang Perekonomia...   \n",
            "1  Dalam rangka memeriahkan hari jadi ke-50, PT S...   \n",
            "2  Wacana Presiden Prabowo Subianto akan membentu...   \n",
            "3  BPJS Ketenagakerjaan dan Kementerian Agama (Ke...   \n",
            "4  Pemerintah akan segera membentuk Satuan Tugas ...   \n",
            "\n",
            "                         tanggal kategori  \\\n",
            "0  Minggu, 01 Des 2024 23:40 WIB  Ekonomi   \n",
            "1  Minggu, 01 Des 2024 20:45 WIB  Ekonomi   \n",
            "2  Minggu, 01 Des 2024 19:40 WIB  Ekonomi   \n",
            "3  Minggu, 01 Des 2024 19:03 WIB  Ekonomi   \n",
            "4  Minggu, 01 Des 2024 19:00 WIB  Ekonomi   \n",
            "\n",
            "                                                 url  \n",
            "0  https://www.cnnindonesia.com/ekonomi/202412012...  \n",
            "1  https://www.cnnindonesia.com/ekonomi/202412012...  \n",
            "2  https://www.cnnindonesia.com/ekonomi/202412011...  \n",
            "3  https://www.cnnindonesia.com/ekonomi/202412011...  \n",
            "4  https://www.cnnindonesia.com/ekonomi/202412011...  \n",
            "\n",
            "Jumlah data per kategori:\n",
            "kategori\n",
            "Ekonomi          375\n",
            "Olahraga         375\n",
            "Nasional         375\n",
            "Internasional    375\n",
            "Name: count, dtype: int64\n"
          ]
        }
      ]
    },
    {
      "cell_type": "markdown",
      "metadata": {
        "id": "d812d81d"
      },
      "source": [
        "## Pra-pemrosesan Data\n",
        "Membersihkan dan menyiapkan teks untuk analisis. Ini termasuk menggabungkan kolom-kolom teks jika diperlukan, membersihkan karakter aneh, menghilangkan angka, spasi berlebih, mengubah teks menjadi huruf kecil, melakukan tokenisasi, dan menghilangkan stop words. Langkah ini memastikan tidak ada nilai kosong yang mengganggu dan teks siap untuk tahap selanjutnya."
      ]
    },
    {
      "cell_type": "code",
      "source": [
        "# Fungsi sederhana untuk membersihkan teks\n",
        "def clean_text(text):\n",
        "    if pd.isna(text):\n",
        "        return \"\"\n",
        "    # Hilangkan karakter aneh dan simbol yang tidak perlu\n",
        "    text = re.sub(r'[^\\w\\s]', ' ', str(text))\n",
        "    # Hilangkan angka\n",
        "    text = re.sub(r'\\d+', '', text)\n",
        "    # Hilangkan spasi berlebih\n",
        "    text = ' '.join(text.split())\n",
        "    # Konversi ke huruf kecil\n",
        "    text = text.lower()\n",
        "    return text\n",
        "\n",
        "# Terapkan fungsi ke kolom isi_berita\n",
        "df_berita['isi_berita_clean'] = df_berita['isi_berita'].apply(clean_text)\n",
        "\n",
        "# Hilangkan baris dengan isi_berita_clean kosong\n",
        "df_berita = df_berita[df_berita['isi_berita_clean'].str.len() > 0]\n",
        "\n",
        "# Unduh resource NLTK jika belum ada (tetap dibutuhkan untuk stop words)\n",
        "try:\n",
        "    nltk.data.find('corpora/stopwords')\n",
        "except LookupError:\n",
        "    nltk.download('stopwords')\n",
        "\n",
        "# Tokenisasi sederhana (split by space) dan hilangkan stop words\n",
        "stop_words = set(stopwords.words('indonesian')) # Gunakan stop words Bahasa Indonesia\n",
        "def tokenize_and_filter(text):\n",
        "    tokens = text.split() # Simple split by space\n",
        "    filtered_tokens = [word for word in tokens if word not in stop_words]\n",
        "    return ' '.join(filtered_tokens)\n",
        "\n",
        "df_berita['isi_berita_processed'] = df_berita['isi_berita_clean'].apply(tokenize_and_filter)\n",
        "\n",
        "\n",
        "# Cek ulang ukuran data\n",
        "print(\"Ukuran Data Setelah Pra-pemrosesan:\", df_berita.shape)\n",
        "\n",
        "# Cek apakah kategori kosong\n",
        "print(\"\\nJumlah data per kategori setelah cleaning:\")\n",
        "print(df_berita['kategori'].value_counts())\n",
        "\n",
        "# Ambil teks bersih dan kategori\n",
        "X_text = df_berita['isi_berita_processed'] # Gunakan kolom yang sudah diproses\n",
        "y_category = df_berita['kategori']\n",
        "\n",
        "print(\"\\nTampilan Awal Data setelah Tokenisasi dan Stop Words Removal:\")\n",
        "print(df_berita[['isi_berita_clean', 'isi_berita_processed']].head())"
      ],
      "metadata": {
        "colab": {
          "base_uri": "https://localhost:8080/"
        },
        "id": "vEUgRez2DLRU",
        "outputId": "83a2703d-f500-46bb-949a-c31a8f9e31b2"
      },
      "execution_count": 11,
      "outputs": [
        {
          "output_type": "stream",
          "name": "stdout",
          "text": [
            "Ukuran Data Setelah Pra-pemrosesan: (1500, 8)\n",
            "\n",
            "Jumlah data per kategori setelah cleaning:\n",
            "kategori\n",
            "Ekonomi          375\n",
            "Olahraga         375\n",
            "Nasional         375\n",
            "Internasional    375\n",
            "Name: count, dtype: int64\n",
            "\n",
            "Tampilan Awal Data setelah Tokenisasi dan Stop Words Removal:\n",
            "                                    isi_berita_clean  \\\n",
            "0  menteri koordinator menko bidang perekonomian ...   \n",
            "1  dalam rangka memeriahkan hari jadi ke pt surab...   \n",
            "2  wacana presiden prabowo subianto akan membentu...   \n",
            "3  bpjs ketenagakerjaan dan kementerian agama kem...   \n",
            "4  pemerintah akan segera membentuk satuan tugas ...   \n",
            "\n",
            "                                isi_berita_processed  \n",
            "0  menteri koordinator menko bidang perekonomian ...  \n",
            "1  rangka memeriahkan pt surabaya industrial esta...  \n",
            "2  wacana presiden prabowo subianto membentuk mem...  \n",
            "3  bpjs ketenagakerjaan kementerian agama kemenag...  \n",
            "4  pemerintah membentuk satuan tugas pemutusan hu...  \n"
          ]
        }
      ]
    },
    {
      "cell_type": "markdown",
      "source": [
        "## Ekstraksi Fitur (TF-IDF)\n",
        "Mengubah teks menjadi representasi numerik menggunakan TF-IDF."
      ],
      "metadata": {
        "id": "-v9rgSRwEbLe"
      }
    },
    {
      "cell_type": "code",
      "source": [
        "# Inisialisasi TfidfVectorizer\n",
        "vectorizer = TfidfVectorizer(max_features=5000, stop_words='english') # Bisa disesuaikan\n",
        "\n",
        "# Fit dan transform teks\n",
        "X_tfidf = vectorizer.fit_transform(X_text)\n",
        "\n",
        "print(\"Ukuran Matriks TF-IDF:\", X_tfidf.shape)"
      ],
      "metadata": {
        "colab": {
          "base_uri": "https://localhost:8080/"
        },
        "id": "Q3RAba0GEiRS",
        "outputId": "22c29b95-74e0-4632-f17f-78f4ec3688c8"
      },
      "execution_count": 12,
      "outputs": [
        {
          "output_type": "stream",
          "name": "stdout",
          "text": [
            "Ukuran Matriks TF-IDF: (1500, 5000)\n"
          ]
        }
      ]
    },
    {
      "cell_type": "markdown",
      "source": [
        "## Topic Modelling (LDA)\n",
        "Mencoba menemukan topik-topik utama dalam berita."
      ],
      "metadata": {
        "id": "UVLK3mJOEwrU"
      }
    },
    {
      "cell_type": "code",
      "source": [
        "# Inisialisasi LDA\n",
        "n_topics = 5 # Misalnya, ingin menemukan 5 topik\n",
        "# LatentDirichletAllocation untuk menemukan topik dalam data teks\n",
        "lda_model = LatentDirichletAllocation(n_components=n_topics, random_state=42)\n",
        "\n",
        "# Fit LDA ke matriks TF-IDF\n",
        "lda_model.fit(X_tfidf)\n",
        "\n",
        "# Fungsi untuk menampilkan kata-kata penting dalam setiap topik\n",
        "def display_topics(model, feature_names, no_top_words):\n",
        "    for topic_idx, topic in enumerate(model.components_):\n",
        "        message = f\"Topik #{topic_idx}: \"\n",
        "        message += \" \".join([feature_names[i] for i in topic.argsort()[:-no_top_words - 1:-1]])\n",
        "        print(message)\n",
        "\n",
        "# Ambil nama fitur (kata-kata) dari vectorizer\n",
        "feature_names = vectorizer.get_feature_names_out()\n",
        "\n",
        "# Tampilkan topik\n",
        "print(f\"\\n--- Hasil Topic Modelling (LDA) dengan {n_topics} Topik ---\")\n",
        "display_topics(lda_model, feature_names, 10)"
      ],
      "metadata": {
        "colab": {
          "base_uri": "https://localhost:8080/"
        },
        "id": "sS4LoVraE78s",
        "outputId": "ebdaf8ef-30f1-495d-fe40-31292345c216"
      },
      "execution_count": 14,
      "outputs": [
        {
          "output_type": "stream",
          "name": "stdout",
          "text": [
            "\n",
            "--- Hasil Topic Modelling (LDA) dengan 5 Topik ---\n",
            "Topik #0: laut pagar tangerang kkp nelayan sertifikat misterius perikanan hgb nusron\n",
            "Topik #1: persen rp prabowo program kpk ppn jakarta harga makan pemerintah\n",
            "Topik #2: israel gaza gencatan senjata kebakaran korban trump hamas warga orang\n",
            "Topik #3: mentah barel minyak sen hasjim brent hmpv texas wti intermediate\n",
            "Topik #4: timnas indonesia pemain piala gol pelatih menit laga vietnam pertandingan\n"
          ]
        }
      ]
    },
    {
      "cell_type": "markdown",
      "source": [
        "## Klasifikasi (Naive Bayes dan SVM)\n",
        "Melatih model klasifikasi menggunakan fitur TF-IDF untuk memprediksi kategori berita (misalnya Nasional, Internasional, Ekonomi, dll., jika labelnya tersedia atau bisa dibuat dari data)."
      ],
      "metadata": {
        "id": "IS3ni64hFSdg"
      }
    },
    {
      "cell_type": "code",
      "source": [
        "# Bagi data menjadi train dan test set\n",
        "X_train, X_test, y_train, y_test = train_test_split(X_tfidf, y_category, test_size=0.2, random_state=42, stratify=y_category)\n",
        "\n",
        "# --- Naive Bayes ---\n",
        "print(\"\\n--- Klasifikasi dengan Naive Bayes ---\")\n",
        "nb_model = MultinomialNB()\n",
        "nb_model.fit(X_train, y_train)\n",
        "\n",
        "# Prediksi\n",
        "y_pred_nb = nb_model.predict(X_test)\n",
        "\n",
        "# Evaluasi\n",
        "acc_nb = accuracy_score(y_test, y_pred_nb)\n",
        "print(f\"Akurasi Naive Bayes: {acc_nb:.4f}\")\n",
        "print(\"\\nClassification Report (Naive Bayes):\")\n",
        "print(classification_report(y_test, y_pred_nb))\n",
        "\n",
        "# --- SVM ---\n",
        "print(\"\\n--- Klasifikasi dengan SVM ---\")\n",
        "# SVM bisa memakan waktu lama untuk data besar, gunakan subset jika perlu\n",
        "# Misalnya, gunakan hanya 1000 data pertama untuk demonstrasi cepat\n",
        "# X_train_svm, y_train_svm = X_train[:1000], y_train[:1000]\n",
        "# X_test_svm, y_test_svm = X_test[:500], y_test[:500]\n",
        "\n",
        "# Untuk demonstrasi penuh, gunakan data train/test asli (bisa lama)\n",
        "svm_model = SVC(kernel='linear', random_state=42) # Linear kernel umum digunakan untuk teks\n",
        "svm_model.fit(X_train, y_train)\n",
        "\n",
        "# Prediksi\n",
        "y_pred_svm = svm_model.predict(X_test)\n",
        "\n",
        "# Evaluasi\n",
        "acc_svm = accuracy_score(y_test, y_pred_svm)\n",
        "print(f\"Akurasi SVM: {acc_svm:.4f}\")\n",
        "print(\"\\nClassification Report (SVM):\")\n",
        "print(classification_report(y_test, y_pred_svm))\n",
        "\n",
        "# Jika ingin melihat confusion matrix untuk salah satu model\n",
        "print(\"\\nConfusion Matrix (SVM):\")\n",
        "print(confusion_matrix(y_test, y_pred_svm))"
      ],
      "metadata": {
        "colab": {
          "base_uri": "https://localhost:8080/"
        },
        "id": "0aI-TWkTFa5U",
        "outputId": "7893c692-6fb9-44a5-e992-c6130bc31d35"
      },
      "execution_count": 15,
      "outputs": [
        {
          "output_type": "stream",
          "name": "stdout",
          "text": [
            "\n",
            "--- Klasifikasi dengan Naive Bayes ---\n",
            "Akurasi Naive Bayes: 0.9400\n",
            "\n",
            "Classification Report (Naive Bayes):\n",
            "               precision    recall  f1-score   support\n",
            "\n",
            "      Ekonomi       0.84      0.97      0.90        75\n",
            "Internasional       0.99      0.99      0.99        75\n",
            "     Nasional       0.97      0.80      0.88        75\n",
            "     Olahraga       0.99      1.00      0.99        75\n",
            "\n",
            "     accuracy                           0.94       300\n",
            "    macro avg       0.95      0.94      0.94       300\n",
            " weighted avg       0.95      0.94      0.94       300\n",
            "\n",
            "\n",
            "--- Klasifikasi dengan SVM ---\n",
            "Akurasi SVM: 0.9533\n",
            "\n",
            "Classification Report (SVM):\n",
            "               precision    recall  f1-score   support\n",
            "\n",
            "      Ekonomi       0.88      0.97      0.92        75\n",
            "Internasional       1.00      0.97      0.99        75\n",
            "     Nasional       0.96      0.87      0.91        75\n",
            "     Olahraga       0.99      1.00      0.99        75\n",
            "\n",
            "     accuracy                           0.95       300\n",
            "    macro avg       0.96      0.95      0.95       300\n",
            " weighted avg       0.96      0.95      0.95       300\n",
            "\n",
            "\n",
            "Confusion Matrix (SVM):\n",
            "[[73  0  1  1]\n",
            " [ 0 73  2  0]\n",
            " [10  0 65  0]\n",
            " [ 0  0  0 75]]\n"
          ]
        }
      ]
    },
    {
      "cell_type": "markdown",
      "source": [
        "# No 2: Analisis Clustering Dokumen (spam.csv)"
      ],
      "metadata": {
        "id": "cqjW8fUoFhY2"
      }
    },
    {
      "cell_type": "markdown",
      "source": [
        "## Import Library\n",
        "Menggunakan library yang diperlukan untuk clustering."
      ],
      "metadata": {
        "id": "GjP4oye2FuZ8"
      }
    },
    {
      "cell_type": "code",
      "source": [
        "import pandas as pd\n",
        "import numpy as np\n",
        "import re\n",
        "from sklearn.feature_extraction.text import TfidfVectorizer\n",
        "from sklearn.cluster import KMeans\n",
        "from sklearn.metrics import silhouette_score\n",
        "import matplotlib.pyplot as plt\n",
        "import warnings\n",
        "warnings.filterwarnings('ignore')"
      ],
      "metadata": {
        "id": "11EH93ewF2uD"
      },
      "execution_count": 16,
      "outputs": []
    },
    {
      "cell_type": "markdown",
      "source": [
        "## Load Data"
      ],
      "metadata": {
        "id": "iiqB80i-F7Jl"
      }
    },
    {
      "cell_type": "code",
      "source": [
        "# Load data dari file CSV\n",
        "# Menggunakan google.colab.files untuk menampilkan pop-up upload file\n",
        "from google.colab import files\n",
        "import io\n",
        "\n",
        "uploaded = files.upload()\n",
        "\n",
        "# Asumsikan hanya satu file yang diupload\n",
        "for fn in uploaded.keys():\n",
        "  print('User uploaded file \"{name}\" with length {length} bytes'.format(\n",
        "      name=fn, length=len(uploaded[fn])))\n",
        "  # Coba berbagai encoding jika utf-8 gagal, misalnya 'latin-1' atau 'ISO-8859-1'\n",
        "  try:\n",
        "      # Baca dengan header=0 karena file sepertinya punya header di baris pertama\n",
        "      df_spam = pd.read_csv(io.StringIO(uploaded[fn].decode('utf-8')), header=0)\n",
        "  except UnicodeDecodeError:\n",
        "      print(\"UTF-8 decoding failed, trying latin-1...\")\n",
        "      # Baca dengan header=0 karena file sepertinya punya header di baris pertama\n",
        "      df_spam = pd.read_csv(io.StringIO(uploaded[fn].decode('latin-1')), header=0)\n",
        "\n",
        "\n",
        "# Beri nama kolom untuk kemudahan\n",
        "# Asumsikan kolom pertama adalah 'label' (sebelumnya 'id') dan kolom kedua adalah 'pesan' (sebelumnya 'Text')\n",
        "# Kita akan mengganti nama kolom pertama dan kedua\n",
        "df_spam.columns.values[:2] = ['label', 'pesan']\n",
        "\n",
        "\n",
        "# Gabungkan kolom-kolom yang tersisa jika ada (untuk jaga-jaga jika struktur berbeda)\n",
        "# Misalnya, jika ada kolom tambahan setelah 'pesan' yang merupakan bagian dari pesan\n",
        "# Kita hanya akan menggunakan kolom 'label' dan 'pesan'\n",
        "df_spam = df_spam[['label', 'pesan']]\n",
        "\n",
        "\n",
        "print(\"Ukuran Data:\", df_spam.shape)\n",
        "print(\"\\nTampilan Awal Data (pesan_utuh):\")\n",
        "print(df_spam.head()) # Tampilkan 5 baris pertama\n",
        "\n",
        "print(\"\\nJumlah data per label:\")\n",
        "print(df_spam['label'].value_counts())"
      ],
      "metadata": {
        "colab": {
          "base_uri": "https://localhost:8080/",
          "height": 548
        },
        "id": "_9obc14rF9_t",
        "outputId": "dc1c1129-1e96-4b9a-b7a0-ee792e873c3d"
      },
      "execution_count": 19,
      "outputs": [
        {
          "output_type": "display_data",
          "data": {
            "text/plain": [
              "<IPython.core.display.HTML object>"
            ],
            "text/html": [
              "\n",
              "     <input type=\"file\" id=\"files-99bcbaf2-2d68-4675-8485-09062ac307b1\" name=\"files[]\" multiple disabled\n",
              "        style=\"border:none\" />\n",
              "     <output id=\"result-99bcbaf2-2d68-4675-8485-09062ac307b1\">\n",
              "      Upload widget is only available when the cell has been executed in the\n",
              "      current browser session. Please rerun this cell to enable.\n",
              "      </output>\n",
              "      <script>// Copyright 2017 Google LLC\n",
              "//\n",
              "// Licensed under the Apache License, Version 2.0 (the \"License\");\n",
              "// you may not use this file except in compliance with the License.\n",
              "// You may obtain a copy of the License at\n",
              "//\n",
              "//      http://www.apache.org/licenses/LICENSE-2.0\n",
              "//\n",
              "// Unless required by applicable law or agreed to in writing, software\n",
              "// distributed under the License is distributed on an \"AS IS\" BASIS,\n",
              "// WITHOUT WARRANTIES OR CONDITIONS OF ANY KIND, either express or implied.\n",
              "// See the License for the specific language governing permissions and\n",
              "// limitations under the License.\n",
              "\n",
              "/**\n",
              " * @fileoverview Helpers for google.colab Python module.\n",
              " */\n",
              "(function(scope) {\n",
              "function span(text, styleAttributes = {}) {\n",
              "  const element = document.createElement('span');\n",
              "  element.textContent = text;\n",
              "  for (const key of Object.keys(styleAttributes)) {\n",
              "    element.style[key] = styleAttributes[key];\n",
              "  }\n",
              "  return element;\n",
              "}\n",
              "\n",
              "// Max number of bytes which will be uploaded at a time.\n",
              "const MAX_PAYLOAD_SIZE = 100 * 1024;\n",
              "\n",
              "function _uploadFiles(inputId, outputId) {\n",
              "  const steps = uploadFilesStep(inputId, outputId);\n",
              "  const outputElement = document.getElementById(outputId);\n",
              "  // Cache steps on the outputElement to make it available for the next call\n",
              "  // to uploadFilesContinue from Python.\n",
              "  outputElement.steps = steps;\n",
              "\n",
              "  return _uploadFilesContinue(outputId);\n",
              "}\n",
              "\n",
              "// This is roughly an async generator (not supported in the browser yet),\n",
              "// where there are multiple asynchronous steps and the Python side is going\n",
              "// to poll for completion of each step.\n",
              "// This uses a Promise to block the python side on completion of each step,\n",
              "// then passes the result of the previous step as the input to the next step.\n",
              "function _uploadFilesContinue(outputId) {\n",
              "  const outputElement = document.getElementById(outputId);\n",
              "  const steps = outputElement.steps;\n",
              "\n",
              "  const next = steps.next(outputElement.lastPromiseValue);\n",
              "  return Promise.resolve(next.value.promise).then((value) => {\n",
              "    // Cache the last promise value to make it available to the next\n",
              "    // step of the generator.\n",
              "    outputElement.lastPromiseValue = value;\n",
              "    return next.value.response;\n",
              "  });\n",
              "}\n",
              "\n",
              "/**\n",
              " * Generator function which is called between each async step of the upload\n",
              " * process.\n",
              " * @param {string} inputId Element ID of the input file picker element.\n",
              " * @param {string} outputId Element ID of the output display.\n",
              " * @return {!Iterable<!Object>} Iterable of next steps.\n",
              " */\n",
              "function* uploadFilesStep(inputId, outputId) {\n",
              "  const inputElement = document.getElementById(inputId);\n",
              "  inputElement.disabled = false;\n",
              "\n",
              "  const outputElement = document.getElementById(outputId);\n",
              "  outputElement.innerHTML = '';\n",
              "\n",
              "  const pickedPromise = new Promise((resolve) => {\n",
              "    inputElement.addEventListener('change', (e) => {\n",
              "      resolve(e.target.files);\n",
              "    });\n",
              "  });\n",
              "\n",
              "  const cancel = document.createElement('button');\n",
              "  inputElement.parentElement.appendChild(cancel);\n",
              "  cancel.textContent = 'Cancel upload';\n",
              "  const cancelPromise = new Promise((resolve) => {\n",
              "    cancel.onclick = () => {\n",
              "      resolve(null);\n",
              "    };\n",
              "  });\n",
              "\n",
              "  // Wait for the user to pick the files.\n",
              "  const files = yield {\n",
              "    promise: Promise.race([pickedPromise, cancelPromise]),\n",
              "    response: {\n",
              "      action: 'starting',\n",
              "    }\n",
              "  };\n",
              "\n",
              "  cancel.remove();\n",
              "\n",
              "  // Disable the input element since further picks are not allowed.\n",
              "  inputElement.disabled = true;\n",
              "\n",
              "  if (!files) {\n",
              "    return {\n",
              "      response: {\n",
              "        action: 'complete',\n",
              "      }\n",
              "    };\n",
              "  }\n",
              "\n",
              "  for (const file of files) {\n",
              "    const li = document.createElement('li');\n",
              "    li.append(span(file.name, {fontWeight: 'bold'}));\n",
              "    li.append(span(\n",
              "        `(${file.type || 'n/a'}) - ${file.size} bytes, ` +\n",
              "        `last modified: ${\n",
              "            file.lastModifiedDate ? file.lastModifiedDate.toLocaleDateString() :\n",
              "                                    'n/a'} - `));\n",
              "    const percent = span('0% done');\n",
              "    li.appendChild(percent);\n",
              "\n",
              "    outputElement.appendChild(li);\n",
              "\n",
              "    const fileDataPromise = new Promise((resolve) => {\n",
              "      const reader = new FileReader();\n",
              "      reader.onload = (e) => {\n",
              "        resolve(e.target.result);\n",
              "      };\n",
              "      reader.readAsArrayBuffer(file);\n",
              "    });\n",
              "    // Wait for the data to be ready.\n",
              "    let fileData = yield {\n",
              "      promise: fileDataPromise,\n",
              "      response: {\n",
              "        action: 'continue',\n",
              "      }\n",
              "    };\n",
              "\n",
              "    // Use a chunked sending to avoid message size limits. See b/62115660.\n",
              "    let position = 0;\n",
              "    do {\n",
              "      const length = Math.min(fileData.byteLength - position, MAX_PAYLOAD_SIZE);\n",
              "      const chunk = new Uint8Array(fileData, position, length);\n",
              "      position += length;\n",
              "\n",
              "      const base64 = btoa(String.fromCharCode.apply(null, chunk));\n",
              "      yield {\n",
              "        response: {\n",
              "          action: 'append',\n",
              "          file: file.name,\n",
              "          data: base64,\n",
              "        },\n",
              "      };\n",
              "\n",
              "      let percentDone = fileData.byteLength === 0 ?\n",
              "          100 :\n",
              "          Math.round((position / fileData.byteLength) * 100);\n",
              "      percent.textContent = `${percentDone}% done`;\n",
              "\n",
              "    } while (position < fileData.byteLength);\n",
              "  }\n",
              "\n",
              "  // All done.\n",
              "  yield {\n",
              "    response: {\n",
              "      action: 'complete',\n",
              "    }\n",
              "  };\n",
              "}\n",
              "\n",
              "scope.google = scope.google || {};\n",
              "scope.google.colab = scope.google.colab || {};\n",
              "scope.google.colab._files = {\n",
              "  _uploadFiles,\n",
              "  _uploadFilesContinue,\n",
              "};\n",
              "})(self);\n",
              "</script> "
            ]
          },
          "metadata": {}
        },
        {
          "output_type": "stream",
          "name": "stdout",
          "text": [
            "Saving spam.csv to spam (2).csv\n",
            "User uploaded file \"spam (2).csv\" with length 507385 bytes\n",
            "UTF-8 decoding failed, trying latin-1...\n",
            "Ukuran Data: (5572, 2)\n",
            "\n",
            "Tampilan Awal Data (pesan_utuh):\n",
            "   label                                              pesan\n",
            "0      1  Go until jurong point, crazy.. Available only ...\n",
            "1      2                      Ok lar... Joking wif u oni...\n",
            "2      3  Free entry in 2 a wkly comp to win FA Cup fina...\n",
            "3      4  U dun say so early hor... U c already then say...\n",
            "4      5  Nah I don't think he goes to usf, he lives aro...\n",
            "\n",
            "Jumlah data per label:\n",
            "label\n",
            "5572    1\n",
            "1       1\n",
            "2       1\n",
            "3       1\n",
            "5556    1\n",
            "       ..\n",
            "9       1\n",
            "8       1\n",
            "7       1\n",
            "6       1\n",
            "5       1\n",
            "Name: count, Length: 5572, dtype: int64\n"
          ]
        }
      ]
    },
    {
      "cell_type": "markdown",
      "source": [
        "## Pra-pemrosesan Data\n",
        "Kita akan membersihkan teks dan memastikan hanya pesan yang relevan yang diproses."
      ],
      "metadata": {
        "id": "JVi560SeG1tx"
      }
    },
    {
      "cell_type": "code",
      "source": [
        "# Fungsi untuk membersihkan teks pesan\n",
        "def clean_text_sms(text):\n",
        "    if pd.isna(text):\n",
        "        return \"\"\n",
        "    # Hilangkan karakter aneh dan simbol yang tidak perlu\n",
        "    text = re.sub(r'[^\\w\\s]', ' ', str(text))\n",
        "    # Hilangkan spasi berlebih\n",
        "    text = ' '.join(text.split())\n",
        "    # Konversi ke huruf kecil\n",
        "    text = text.lower()\n",
        "    return text\n",
        "\n",
        "# Terapkan fungsi ke kolom pesan\n",
        "df_spam['pesan_clean'] = df_spam['pesan'].apply(clean_text_sms)\n",
        "\n",
        "# Hilangkan baris dengan pesan_clean kosong atau hanya berisi angka (ID)\n",
        "# Kita bisa menggunakan regex untuk memeriksa apakah teks hanya angka\n",
        "df_spam = df_spam[~df_spam['pesan_clean'].str.match(r'^\\d+$', na=False)] # Hilangkan baris yang hanya berisi angka\n",
        "df_spam = df_spam[df_spam['pesan_clean'].str.len() > 0] # Hilangkan baris kosong\n",
        "\n",
        "print(\"Ukuran Data Setelah Pra-pemrosesan:\", df_spam.shape)\n",
        "\n",
        "# Ambil teks bersih untuk clustering\n",
        "X_sms_text = df_spam['pesan_clean']\n",
        "\n",
        "print(\"\\nBeberapa contoh pesan setelah cleaning:\")\n",
        "print(X_sms_text.head(10).values)"
      ],
      "metadata": {
        "colab": {
          "base_uri": "https://localhost:8080/"
        },
        "id": "QWsu2Dq5G8ur",
        "outputId": "5ad3e07d-95f0-455c-976e-cda3a941cc2b"
      },
      "execution_count": 21,
      "outputs": [
        {
          "output_type": "stream",
          "name": "stdout",
          "text": [
            "Ukuran Data Setelah Pra-pemrosesan: (5569, 3)\n",
            "\n",
            "Beberapa contoh pesan setelah cleaning:\n",
            "['go until jurong point crazy available only in bugis n great world la e buffet cine there got amore wat'\n",
            " 'ok lar joking wif u oni'\n",
            " 'free entry in 2 a wkly comp to win fa cup final tkts 21st may 2005 text fa to 87121 to receive entry question std txt rate t c s apply 08452810075over18 s'\n",
            " 'u dun say so early hor u c already then say'\n",
            " 'nah i don t think he goes to usf he lives around here though'\n",
            " 'freemsg hey there darling it s been 3 week s now and no word back i d like some fun you up for it still tb ok xxx std chgs to send å 1 50 to rcv'\n",
            " 'even my brother is not like to speak with me they treat me like aids patent'\n",
            " 'as per your request melle melle oru minnaminunginte nurungu vettam has been set as your callertune for all callers press 9 to copy your friends callertune'\n",
            " 'winner as a valued network customer you have been selected to receivea å 900 prize reward to claim call 09061701461 claim code kl341 valid 12 hours only'\n",
            " 'had your mobile 11 months or more u r entitled to update to the latest colour mobiles with camera for free call the mobile update co free on 08002986030']\n"
          ]
        }
      ]
    },
    {
      "cell_type": "markdown",
      "source": [
        "## Ekstraksi Fitur (TF-IDF)\n",
        "Mengubah teks pesan menjadi representasi numerik menggunakan TF-IDF."
      ],
      "metadata": {
        "id": "EB-NvGXtHPy2"
      }
    },
    {
      "cell_type": "code",
      "source": [
        "# Inisialisasi TfidfVectorizer\n",
        "# Karena ini pesan singkat, kita bisa menyesuaikan parameter\n",
        "vectorizer_sms = TfidfVectorizer(max_features=1000, stop_words='english', ngram_range=(1,2)) # ngram_range bisa digunakan untuk mempertimbangkan pasangan kata\n",
        "\n",
        "# Fit dan transform teks\n",
        "X_sms_tfidf = vectorizer_sms.fit_transform(X_sms_text)\n",
        "\n",
        "print(\"Ukuran Matriks TF-IDF:\", X_sms_tfidf.shape)"
      ],
      "metadata": {
        "colab": {
          "base_uri": "https://localhost:8080/"
        },
        "id": "ZjojOLLeHWdm",
        "outputId": "04818192-548e-403a-def7-21230add46eb"
      },
      "execution_count": 22,
      "outputs": [
        {
          "output_type": "stream",
          "name": "stdout",
          "text": [
            "Ukuran Matriks TF-IDF: (5569, 1000)\n"
          ]
        }
      ]
    },
    {
      "cell_type": "markdown",
      "source": [
        "## Clustering (K-Means)\n",
        "Menggunakan algoritma K-Means untuk mengelompokkan pesan."
      ],
      "metadata": {
        "id": "gwCHhsoTHbWE"
      }
    },
    {
      "cell_type": "code",
      "source": [
        "# Tentukan jumlah cluster (k)\n",
        "# Ini bisa diiterasi atau dipilih berdasarkan domain knowledge atau metode seperti Elbow Method\n",
        "k = 5 # Misalnya, ingin menemukan 5 cluster\n",
        "\n",
        "# Inisialisasi dan fit KMeans\n",
        "kmeans_model = KMeans(n_clusters=k, random_state=42, n_init=10) # n_init untuk versi sklearn terbaru\n",
        "kmeans_model.fit(X_sms_tfidf)\n",
        "\n",
        "# Dapatkan label cluster untuk setiap pesan\n",
        "cluster_labels = kmeans_model.labels_\n",
        "\n",
        "# Tambahkan label cluster ke dataframe\n",
        "df_spam['cluster'] = cluster_labels\n",
        "\n",
        "print(f\"\\n--- Hasil Clustering dengan K-Means (k={k}) ---\")\n",
        "print(f\"Jumlah pesan per cluster:\")\n",
        "print(df_spam['cluster'].value_counts().sort_index())"
      ],
      "metadata": {
        "colab": {
          "base_uri": "https://localhost:8080/"
        },
        "id": "0P_7N3WTHy3S",
        "outputId": "b24e6026-5a8e-45ef-ccf7-f4149e24e35e"
      },
      "execution_count": 23,
      "outputs": [
        {
          "output_type": "stream",
          "name": "stdout",
          "text": [
            "\n",
            "--- Hasil Clustering dengan K-Means (k=5) ---\n",
            "Jumlah pesan per cluster:\n",
            "cluster\n",
            "0     287\n",
            "1    4406\n",
            "2     254\n",
            "3     399\n",
            "4     223\n",
            "Name: count, dtype: int64\n"
          ]
        }
      ]
    },
    {
      "cell_type": "markdown",
      "source": [
        "## Evaluasi dan Analisis Cluster\n",
        "Menghitung Silhouette Score dan melihat contoh pesan dari masing-masing cluster."
      ],
      "metadata": {
        "id": "wP7e__W3H2ko"
      }
    },
    {
      "cell_type": "code",
      "source": [
        "# Hitung Silhouette Score\n",
        "silhouette_avg = silhouette_score(X_sms_tfidf, cluster_labels)\n",
        "print(f\"\\nSilhouette Score untuk k={k}: {silhouette_avg:.4f}\")\n",
        "\n",
        "# Lihat contoh pesan dari masing-masing cluster\n",
        "print(\"\\n--- Contoh Pesan dari Setiap Cluster ---\")\n",
        "for i in range(k):\n",
        "    print(f\"\\nCluster {i}:\")\n",
        "    cluster_messages = df_spam[df_spam['cluster'] == i]['pesan'].head(5) # Use 'pesan' column\n",
        "    for idx, msg in enumerate(cluster_messages):\n",
        "        print(f\"  {idx+1}. {msg}\")"
      ],
      "metadata": {
        "colab": {
          "base_uri": "https://localhost:8080/"
        },
        "id": "ZEMGhRCIIN1Y",
        "outputId": "54168e7b-b2a7-40a9-e453-163647a69948"
      },
      "execution_count": 25,
      "outputs": [
        {
          "output_type": "stream",
          "name": "stdout",
          "text": [
            "\n",
            "Silhouette Score untuk k=5: 0.0225\n",
            "\n",
            "--- Contoh Pesan dari Setiap Cluster ---\n",
            "\n",
            "Cluster 0:\n",
            "  1. England v Macedonia - dont miss the goals/team news. Txt ur national team to 87077 eg ENGLAND to 87077 Try:WALES, SCOTLAND 4txt/Ì¼1.20 POBOXox36504W45WQ 16+\n",
            "  2. Aft i finish my lunch then i go str down lor. Ard 3 smth lor. U finish ur lunch already?\n",
            "  3. Today is \\song dedicated day..\\\" Which song will u dedicate for me? Send this to all ur valuable frnds but first rply me...\"\n",
            "  4. Urgent UR awarded a complimentary trip to EuroDisinc Trav, Aco&Entry41 Or å£1000. To claim txt DIS to 87121 18+6*å£1.50(moreFrmMob. ShrAcomOrSglSuplt)10, LS1 3AJ\n",
            "  5. Ela kano.,il download, come wen ur free..\n",
            "\n",
            "Cluster 1:\n",
            "  1. Ok lar... Joking wif u oni...\n",
            "  2. Free entry in 2 a wkly comp to win FA Cup final tkts 21st May 2005. Text FA to 87121 to receive entry question(std txt rate)T&C's apply 08452810075over18's\n",
            "  3. U dun say so early hor... U c already then say...\n",
            "  4. Nah I don't think he goes to usf, he lives around here though\n",
            "  5. FreeMsg Hey there darling it's been 3 week's now and no word back! I'd like some fun you up for it still? Tb ok! XxX std chgs to send, å£1.50 to rcv\n",
            "\n",
            "Cluster 2:\n",
            "  1. Wow. I never realized that you were so embarassed by your accomodations. I thought you liked it, since i was doing the best i could and you always seemed so happy about \\the cave\\\". I'm sorry I didn't and don't have more to give. I'm sorry i offered. I'm sorry your room was so embarassing.\"\n",
            "  2. Sorry, I'll call later in meeting.\n",
            "  3. Sorry my roommates took forever, it ok if I come by now?\n",
            "  4. Sorry, I'll call later\n",
            "  5. Yeah do! DonÛ÷t stand to close tho- youÛ÷ll catch something!\n",
            "\n",
            "Cluster 3:\n",
            "  1. Go until jurong point, crazy.. Available only in bugis n great world la e buffet... Cine there got amore wat...\n",
            "  2. I'm back &amp; we're packing the car now, I'll let you know if there's room\n",
            "  3. Yeah he got in at 2 and was v apologetic. n had fallen out and she was actin like spoilt child and he got caught up in that. Till 2! But we won't go there! Not doing too badly cheers. You? \n",
            "  4. Oops, I'll let you know when my roommate's done\n",
            "  5. U don't know how stubborn I am. I didn't even want to go to the hospital. I kept telling Mark I'm not a weak sucker. Hospitals are for weak suckers.\n",
            "\n",
            "Cluster 4:\n",
            "  1. Great! I hope you like your man well endowed. I am  &lt;#&gt;  inches...\n",
            "  2. A gram usually runs like  &lt;#&gt; , a half eighth is smarter though and gets you almost a whole second gram for  &lt;#&gt;\n",
            "  3. Do you know what Mallika Sherawat did yesterday? Find out now @  &lt;URL&gt;\n",
            "  4. Does not operate after  &lt;#&gt;  or what\n",
            "  5. Turns out my friends are staying for the whole show and won't be back til ~ &lt;#&gt; , so feel free to go ahead and smoke that $ &lt;#&gt;  worth\n"
          ]
        }
      ]
    },
    {
      "cell_type": "markdown",
      "source": [
        "## (Opsional) Visualisasi Sederhana\n",
        "Menggunakan t-SNE untuk mereduce dimensi dan memvisualisasikan cluster (ini bisa memakan waktu untuk data besar)."
      ],
      "metadata": {
        "id": "tGVXXVn3IZtb"
      }
    },
    {
      "cell_type": "code",
      "source": [
        "from sklearn.manifold import TSNE\n",
        "import matplotlib.pyplot as plt\n",
        "\n",
        "# Ambil subset data untuk visualisasi karena t-SNE bisa lambat\n",
        "sample_size = 500\n",
        "if X_sms_tfidf.shape[0] > sample_size:\n",
        "    indices = np.random.choice(X_sms_tfidf.shape[0], sample_size, replace=False)\n",
        "    X_subset = X_sms_tfidf[indices]\n",
        "    labels_subset = cluster_labels[indices]\n",
        "else:\n",
        "    X_subset = X_sms_tfidf\n",
        "    labels_subset = cluster_labels\n",
        "\n",
        "# Inisialisasi t-SNE\n",
        "tsne = TSNE(n_components=2, random_state=42, perplexity=min(30, X_subset.shape[0] - 1))\n",
        "\n",
        "# Transformasi data ke 2D\n",
        "X_tsne = tsne.fit_transform(X_subset.toarray()) # .toarray() karena X_subset adalah sparse matrix\n",
        "\n",
        "# Plot\n",
        "plt.figure(figsize=(10, 8))\n",
        "scatter = plt.scatter(X_tsne[:, 0], X_tsne[:, 1], c=labels_subset, cmap='viridis', alpha=0.6)\n",
        "plt.title(f'Visualisasi Cluster (K-Means, k={k}) - t-SNE')\n",
        "plt.xlabel('t-SNE Component 1')\n",
        "plt.ylabel('t-SNE Component 2')\n",
        "plt.colorbar(scatter)\n",
        "plt.show()"
      ],
      "metadata": {
        "colab": {
          "base_uri": "https://localhost:8080/",
          "height": 555
        },
        "id": "zbNR52HeIG8T",
        "outputId": "564cb3fc-de04-4a89-d305-24d5eb9dfa79"
      },
      "execution_count": 28,
      "outputs": [
        {
          "output_type": "display_data",
          "data": {
            "text/plain": [
              "<Figure size 1000x800 with 2 Axes>"
            ],
            "image/png": "[encoded data removed]"
          },
          "metadata": {}
        }
      ]
    }
  ]
}