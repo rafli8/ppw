{
  "cells": [
    {
      "cell_type": "markdown",
      "metadata": {},
      "source": [
        "# Web Crawling"
      ]
    },
    {
      "cell_type": "markdown",
      "metadata": {
        "id": "HRq71WHd3p4_"
      },
      "source": [
        "## Langkah-langkah mengerjakan\n",
        "Siapkan website untuk kalian crawling, dalam contoh kasus ini kita akan mengambil jurnal yang ada di website springer nature. Selanjutnya, buka website https://dev.springernature.com/ lalu buat akun untuk mendapat API yang kalian butuhkan (meta API), copy API yang kalian dapatkan dan paste ke kode yang telah kalian buat.\n",
        "\n",
        "Setelah itu, ketikkan kata kunci yang ingin kalian cari di kode bagian q:\"(disini kalian isi apa yang kalian inginn cari)\" kemudian run kode lalu setelah itu akan muncul semua judul yang mencakup kata kunci yang telah diketikkan sebelumnya. Dan, buat kode untuk mengkonversikan output dari kode kalian menjadi file csv."
      ]
    },
    {
      "cell_type": "code",
      "execution_count": 8,
      "metadata": {
        "colab": {
          "base_uri": "https://localhost:8080/"
        },
        "id": "KMZoZ0zrmKaH",
        "outputId": "ada877d9-4c31-4951-a34b-dcc612b88206"
      },
      "outputs": [
        {
          "name": "stdout",
          "output_type": "stream",
          "text": [
            "Requirement already satisfied: sprynger in /usr/local/lib/python3.12/dist-packages (0.4.1)\n",
            "Requirement already satisfied: lxml in /usr/local/lib/python3.12/dist-packages (from sprynger) (5.4.0)\n",
            "Requirement already satisfied: requests in /usr/local/lib/python3.12/dist-packages (from sprynger) (2.32.4)\n",
            "Requirement already satisfied: urllib3 in /usr/local/lib/python3.12/dist-packages (from sprynger) (2.5.0)\n",
            "Requirement already satisfied: platformdirs in /usr/local/lib/python3.12/dist-packages (from sprynger) (4.3.8)\n",
            "Requirement already satisfied: charset_normalizer<4,>=2 in /usr/local/lib/python3.12/dist-packages (from requests->sprynger) (3.4.3)\n",
            "Requirement already satisfied: idna<4,>=2.5 in /usr/local/lib/python3.12/dist-packages (from requests->sprynger) (3.10)\n",
            "Requirement already satisfied: certifi>=2017.4.17 in /usr/local/lib/python3.12/dist-packages (from requests->sprynger) (2025.8.3)\n"
          ]
        }
      ],
      "source": [
        "pip install sprynger"
      ]
    },
    {
      "cell_type": "code",
      "execution_count": null,
      "metadata": {
        "colab": {
          "base_uri": "https://localhost:8080/"
        },
        "id": "LOIdoEH2naZq",
        "outputId": "db5d1945-4639-4fdb-bd87-a59c9ceb98f9"
      },
      "outputs": [
        {
          "name": "stdout",
          "output_type": "stream",
          "text": [
            "Total hasil: 156\n",
            "\n",
            "DOI: 10.1007/s44447-025-00033-8\n",
            "Title: Development strategy for smallholder oil palm and coconut plantation in Pesisir Selatan Regency\n",
            "Abstract: This study aims to formulate development strategies for smallholder oil palm and coconut commodities in Pesisir Selatan Regency, West Sumatera Province, using the A'WOT method, which combines the Analytic Hierarchy Process (AHP) and SWOT (Strengths, Weaknesses, Opportunities, Threats). AHP assigns weights and prioritises factors identified in the SWOT analysis, which evaluates the strengths, weaknesses, opportunities, and threats of developing both commodities. The findings reveal that the primary strategy for oil palm development focuses on adopting technology to improve production efficiency and quality while reducing dependence on intermediaries. For coconut, the primary strategy emphasises government support for plantation replanting programs and establishing value-added processing industries to enhance farmers' economic growth. The study also highlights the importance of integrating sustainability practices and aligning with global agricultural development goals. The practical implications of these findings suggest that implementing strategies involving technological support, plantation replanting, and value-added processing can enhance the competitiveness and sustainability of both commodities in Pesisir Selatan. These strategies are expected to serve as a model for other regions in Southeast Asia, promoting sustainable agriculture, improving farmers' livelihoods, and strengthening economic resilience.\n",
            "\n",
            "DOI: 10.1007/s10068-025-01876-1\n",
            "Title: Optimizing probiotic orange juice spherification: effects of sodium alginate, calcium lactate, and hardening time using Box-Behnken\n",
            "Abstract: Spherification, one example of molecular gastronomy, applies microencapsulation technology with extrusion techniques based on sodium alginate and calcium lactate. Spherification can be an innovation in other non-fermented and non-dairy probiotic products, including using orange juice as a medium. This study aims to optimize the concentration of sodium alginate, calcium lactate, and hardening time in making probiotic orange microbeads using Box Behnken Design and its characterization. Optimization is based on calculating encapsulation efficiency (EE), circularity, roundness, and encapsulation yield (EY). Optimization results showed optimal conditions at 2.98% (w/w) sodium alginate, 2.87% (w/w) calcium lactate, and a 40-min hardening time, with predicted EE, roundness, circularity, and EY of 83.89, 0.8459, 0.8476, and 81.44, respectively. The optimized probiotic orange microbeads are orange, with a moisture content of 89.279 ± 0.213%, a_w of 0.763 ± 0.013, and a pH of 6.023 ± 0.050.\n",
            "\n",
            "DOI: 10.1007/s12672-025-02745-3\n",
            "Title: Integrated analysis unraveling the immunologic and clinical prognostic values of synaptotagmin like 4 in pan-cancer\n",
            "Abstract: SYTL4 (Synaptotagmin Like 4) encodes a protein of synaptotagmin like protein family, which participates in intracellular membrane trafficking. Currently, its role and mechanisms in cancer remain unveiled, necessitating additional comprehensive analysis across different types of cancer to assess its potential in diagnosis, prognosis, chemotherapy, and immunotherapy in cancer. In our study, the mRNA level, threshold for copy number alterations, segmentation of masked copy number alterations, and methylation of SYTL4 DNA were analyzed based on data from TCGA pan-cancer cohort. miRNA, TCPA, mutation and clinical data were analyzed to evaluate diagnostic and prognostic significances of SYTL4. Then the results were checked using cBioPortal and GEO database. The protein levels were analyzed and evaluated based on HPA database and Clinical Proteomic Tumor Analysis Consortium (CPTAC). Biological roles of SYTL4 in pan-cancer were explored by GSEA. We use multiple immune infiltration algorithms in TIMER2.0 and TISCH database to cross-verify the associations between SYTL4 expression and tumor immune microenvironment. Additionally, we depicted a pan-cancer survival map and explored the differences of gene expressions among cancers with different molecular subtypes. Through chemotherapy data from CellMiner, GDSC, CTRP database, we clarified the relationship between SYTL4 and drug resistance. Finally, we explored the chemical substances that affect SYTL4 expression through CTD database. This study systematically and comprehensively reveals the functions of SYTL4 and potential clinical diagnostic and therapeutic predictive values of SYTL4 in pan-cancer.\n",
            "\n",
            "DOI: 10.1186/s40862-025-00324-1\n",
            "Title: Addressing English-speaking anxiety in Vietnamese initial teacher education: beyond coping strategies\n",
            "Abstract: In the context of a global reliance on the English language for communication and commerce, Vietnam’s national foreign languages project seeks to improve graduates’ English competencies, with a key focus on improving initial teacher education for future English teachers. While English-speaking anxiety among Vietnamese pre-service English teachers (PSETs) has been recognised, there is limited qualitative research exploring this anxiety in depth. The following qualitative case-study investigates the causes of Vietnamese PSETs’ English-speaking anxiety and reports on some of the strategies used to manage this anxiety. The researcher conducted semi-structured interviews with five Vietnamese pre-service English teachers from a Hanoi-based university. The findings highlight linguistic challenges, such as limited vocabulary, pronunciation difficulties, and reliance on L1 translation, as key contributors. Sociocultural factors, including fear of negative evaluation and classroom dynamics, further compounded the issue, while personal factors like low self-confidence and unrealistic expectations of linguistic perfection heightened speaking anxiety. Participants reported employing strategies such as thorough preparation, peer support, and positive thinking to manage their speaking anxiety. The study underscrores the need to adapt existing theoretical frameworks related to foreign language speaking anxiety to account for context-specific cultural and societal pressures while recommending that initial teacher education programs integrate strategies to mitigate English-speaking anxiety and foster supportive classroom environments to enhance language teaching effectiveness.\n",
            "\n",
            "DOI: 10.1007/s41748-025-00623-0\n",
            "Title: Prediction of Urban Surface Water Quality Scenarios Using Water Quality Index (WQI), Multivariate Techniques, and Machine Learning (ML) Models in Water Resources, in Baitarani River Basin, Odisha: Potential Benefits and Associated Challenges\n",
            "Abstract: A wide range of surface water quality datasets under temporal conditions is collected to develop the model. Employs IDW interpolation method to estimate spatial distribution maps from detected locations. Best combination of input parameters affecting the potable water is selected using the Su-WQI. Spatial mapping reveals critical pollution sources in tested sites. % Na, SAR, MH, and KR indicates suitability for irrigation activity. A model is built to predict and identify contamination sources using the Pearson Corelation and Principal Component Analysis approach, suggesting targeted interventions. The Optimized Forest model is recommended based on the statical indices, achieving more than 80% accuracy. Provides valuable insights for water management and risk reduction in vulnerable regions. Abstract Surface water quality in hyper-arid regions is crucial for sustaining agricultural and domestic activities. Increasing human activities, including religious practices and inadequate waste management, pose significant challenges, leading to bacterial contamination and deteriorating water quality. This situation demands urgent attention. This study investigates the hydro-chemical properties and contamination levels of surface water, focusing to examine the water quality of Baitarani River Basin, Odisha, through frequent field studies, conducted along the thirteen surveyed stations and the use of multivariate statistical methods, such as the Pearson correlation and Principal Component Analysis (PCA). Over a 9-year (2014–2023) period, a total of 14 samples were analysed for physicochemical parameters, including total dissolved solids (TDS), electrical conductivity (EC), pH, turbidity, coliform, alkalinity, and major ions (Ca²⁺, Mg²⁺, Na⁺, K^−, Cl⁻, SO₄²⁻, HCO₃⁻, NO_3^−). Water quality was evaluated across thirteen locations using the Surface (Su) Water-Weighted Water Quality Index (WQI) to determine its suitability for human consumption and restricted irrigation. The calculated Su-WQI values ranged from 43 to 223, signifying excellent to extremely poor water quality. The findings suggest that, while five (38.46%) locations along the river are suitable for drinking and irrigation, and in contrast, areas near wastewater discharge i.e., 8 locations classified 61.54% of the samples renders very poor/extremely poor, highlighting significant salinity, coliform, turbidity, TDS, bicarbonate, and sulphate pollution, thus emphasizing the urgent need for sustainable surface water management and effective remediation strategies. Geochemical diagrams (Gibbs and Piper) suggests ions, that are mostly discharged in water as a result of rock-water contact and carbonate weathering. Pearson’s coefficient is used to classify the relationships between parameter pairs according to the strength of correlation and quantify the degree of linkage. In addition, multivariate statistical tools such as Principal Component Analysis (PCA) revealed five PCs, demonstrating 86.65% of the total variance. Utilizing Machine Learning (ML) techniques, the surface water quality parameter was evaluated for training and testing the models using a classifier attribute evaluator. Subsequently, Model performance was examined using metrics including accuracy, precision, recall, and false positive rate (FPR) that were derived from the confusion matrix. With a low FPR and mean absolute error (MAE) of 75.17% and 0.225, a high accuracy of 82.44%, a precision of 84.29%, and a recall of 96.59%, Optimized Forest performs better than any other classifier. The Optimized Forest model can be utilized in surface water monitoring locations to test fresh water samples for the classification of water quality indicators. As a result, by emphasizing the reuse of water for urban greening and sustainable development, the study aligns with Odisha’s Vision commitment to resource conservation, ecological balance, and creating a greener, more sustainable urban environment. The findings offer critical insights for policymakers and stakeholders in developing comprehensive water resource management frameworks. Graphical abstract Based on the graphical snapshot, this study was conducted to determine the variation in Hydro-chemical facies, understand the evolution of Hydro-chemical processes and to assess the suitability of surface water for both agricultural and drinking purposes. This work captures complex relationships between socioeconomic and environmental variables and surface water assessment in Baitarani Basin, Odisha. Surface water sampling was carried out considering both spatial and chemical controls to understand the underlying mechanisms operating within a dynamic alluvial hydrogeochemical environment. Hydro-chemical parameters including pH, EC, major cations, and anions were analysed following standardized procedures outlined by the American Public Health Association. Detected water samples were collected from relevant locations and analysed for various physicochemical parameters. Multiple indices, including Pearson Correlation, Principal Component Analysis, and Machine Learning (ML) approaches, were utilized in the models. Pearson’s coefficient to quantify the degree of association and categorizes the relationships between parameter pairs based on the magnitude of correlation. Principal Component Analysis (PCA) revealed five PCs, demonstrating 86.65% of the total variance. Piper’s and Gibb’s plots revealed that surface water belong to Ca-Cl_2 type, followed by mixed Ca-MgCl_2, and Ca-(HCO_3)_2 type water, illustrating the presence of permanent hardness and the dominance of alkaline earths over alkali, with a nondominant cation type. This plot also demonstrated the dominance of reverse ion exchange water having permanent hardness in majority of the samples over recharging water with temporary hardness. As per ML observation, parameters obtained from the confusion matrix, such as accuracy, precision, recall, and FPR, were used to analyses the performance of models. Among all models, Optimized Forest outperforms other classifier as it has a high accuracy of 82.44%, a precision of 84.29%, recall of 96.59%, and a low FPR and MAE of 75.17% and 0.225. The findings offer critical insights for policymakers and stakeholders in developing comprehensive water resource management frameworks.\n",
            "\n",
            "DOI: 10.1007/s40883-024-00355-z\n",
            "Title: Hematopoietic Stem Cell Therapy in Improving Clinical Outcomes for Children with Autism Spectrum Disorder: A Systematic Review and Meta-Analysis\n",
            "Abstract: Purpose To review the adverse events and efficacy of hematopoietic stem cell (HSC) therapy in improving the clinical symptoms of autism spectrum disorder (ASD) in children. Method Databases, which were used to search randomized controlled trials (RCTs) and/or clinical trials on HSC therapy for ASD in children, were PubMed, EMBASE, Cochrane Library, EBSCOhost, and Clinicaltrial.gov. The risk of bias was assessed with Cochrane Risk of Bias Tool 2 for RCTs and ROBINS-I for non-RCTs. The extracted data was analyzed using RStudios. Results A total of 376 studies were analyzed, and six were used in this review and meta-analysis. A pooling meta-analysis found that CARS Scale means was 32.63 (95% CI [30.20 to 35.06]) and VABS change was 2.06 (95% CI [0.07 to 4.02]) in 6 months after baseline. We also found that CGI improvement was not significant in both groups (OR 0.54 (95% CI [0.07 to 4.02])). We found the most common adverse events could be categorized as non-serious, namely mild fever, nausea, vomiting, pain, and infusion-related events. Conclusion This study suggests that HSC is a relatively safe therapeutic option for children with ASD where the most common AEs that emerged are the minor ones. Despite its safety, HSC therapy did not yield a significant improvement of ASD clinical outcomes. Hence, further research and clinical trials need to be developed in order to affirm, or to refute the use of HSCs in children ASD. Trial Registration We have already registered this review to International Prospective Registers for Systematic Reviews (PROSPERO) with the number of registration CRD42023463328. Lay Summary Management options for autism spectrum disorder (ASD) include behavioral management therapy, cognitive behavioral therapy, nutritional or medication treatment, which can be combined with hematopoietic stem cell (HSC) therapy to get better results. HSC therapy is a relatively safe therapeutic option for children with ASD, where the most common adverse events that emerged are mild fever, nausea, vomiting, pain, and infusion-related events. However, HSC therapy did not show a significant and consistent improvement of ASD clinical symptoms. Hence, further research and clinical trials need to be developed in order to affirm, or to refute the use of HSCs in children ASD. Future works Studies need to be conducted to determine the age, disease severity, and type of autism spectrum disorder that may respond well to hematopoietic stem cell (HSC) therapy. In addition, studies on source of HSC, type of stem cells and duration of therapy are needed to determine the best therapy regimen. Graphical Abstract \n",
            "\n",
            "DOI: 10.1186/s40854-024-00672-w\n",
            "Title: Asymmetries in factors influencing non-fungible tokens’ (NFTs) returns\n",
            "Abstract: The asymmetries of factors influencing the return of cryptocurrencies have already been well documented; however, in the case of NFTs, only information asymmetries and hedging properties related to asymmetries were studied. Therefore, the present study examines factors affecting NFT returns, from market-related factors (crypto-market index return and stock market index return) to the Amihud illiquidity ratio and Google search trends during different market conditions. The wavelet coherences-based methodology was applied separately during the boom, bust, normal, and turbulent periods identified by structural breakpoints. Based on 14 NFT projects between April 2019 and July 2022, results show two fundamental asymmetries influencing these NFT returns. First, there is an asymmetry in the behavior of the factors in different periods; second, there is an asymmetry in how illiquidity manifests itself over NFTs that do or do not possess cash flow-generating potential.\n",
            "\n",
            "DOI: 10.2991/978-2-38476-360-3_48\n",
            "Title: Career Exploration of Students with Disabilities for Readiness to Engage in the Workplace\n",
            "Abstract: This study aims to explore the careers of students with disabilities for readiness to enter the world of work through the RIASEC model talent interest test measurement tool. The research method used in this research is quantitative research with a descriptive approach. The population in this study were 100 students with disabilities in Makassar City. This research sample technique uses purposive sampling. The sample of this study took 25 students who were classified into several types of students with physical and intellectual disabilities including blind, deaf, disabled and autism. The RIASEC questionnaire totals 90 statement items using 5 aspects, namely (Realistic, Investigative, Artistic, Social, Entrepreneur, and Conventional). The scale used is a guttman scale which is used to obtain respondents’ answers with two response intervals, namely appropriate-not appropriate. The results of research conducted on students with disabilities in Makassar City show that the Social (S) personality indicator is higher with a total percentage of 32% than other personality types. Then the Realistic (R) type is 28%, Conventional (C) is 3%, Artistic (A) is 3%, investigative is 3%, and Enterprising (E) personality type is 1%. The conclusion of this study is that it is important to understand the specific career preferences of students with different types of disabilities by tailoring career prospects accordingly and may require different approaches. This study highlights the need for tailored career guidance programs for students with disabilities to improve their workforce readiness.\n",
            "\n",
            "DOI: 10.1007/978-981-97-8197-3_35\n",
            "Title: Fuzzy PID Control for Parallel Friction Stir Welding Robot Manipulator\n",
            "Abstract: Friction stir welding (FSW) is widely developed because of its advantages: clean welding technology. A robotic manipulator needs to be developed to improve the precision of FSW, especially for long welding. Hence, robust control is essential to be designed as part of the robot’s needs. In this study, a fuzzy PID was proposed to control the tip of the FSW tool to match the required welding trajectory. To demonstrate the controller performance of the fuzzy PID, comparisons with conventional PIDs were made in this study. Based on the comparison results, there is no overshoot on the fuzzy PID controller, but the rise time and the settling time are still far from conventional PID controllers.\n",
            "\n",
            "DOI: 10.2991/978-2-38476-317-7_220\n",
            "Title: From Four Dimension’s FoMO: A Phenomenological Study of the Role of Social Networking in New Students\n",
            "Abstract: In social networks, millions of people can share information about interests and especially share photos and videos, create blogs and send messages, and can build conversations in person. Researchers later linked addiction to social networking with Fear of Missing Out. This study aims to understand the dynamics of FoMO in first-year students who are influenced by social networking. This study uses a qualitative descriptive approach where the data collected is in the form of words, pictures and not numbers. The data in this study were obtained through interviews and document studies. The results of the study showed that the picture of FoMO dynamics in the two participants was very unique, where only the anxiety dimension was clearly visible, while the need to belong, need for popularity and addiction were less visible in this study. This is due to the existence of new factors and even aspects that affect the level of FoMO in both participants. These aspects are a fairly high level of self-esteem and the existence of gratitude (gratitude) in the participants.\n",
            "\n"
          ]
        }
      ],
      "source": [
        "import requests\n",
        "# Silahkan membuat api key dari https://dev.springernature.com/#api\n",
        "api_key = \"ce144a12624a303d0e0047e0bd6349a8\"\n",
        "isbn = \"978-3-031-63497-0\"\n",
        "\n",
        "url = \"https://api.springernature.com/meta/v2/json\"\n",
        "params = {\n",
        "    \"q\": f\"web mining\",\n",
        "    \"api_key\": api_key,\n",
        "    \"p\": 10\n",
        "}\n",
        "\n",
        "response = requests.get(url, params=params)\n",
        "\n",
        "if response.status_code == 200:\n",
        "    data = response.json()\n",
        "    print(f\"Total hasil: {data['result'][0]['total']}\\n\")\n",
        "    for record in data['records']:\n",
        "        doi = record.get('doi', 'N/A')\n",
        "        title = record.get('title', 'No title')\n",
        "        abstract = record.get('abstract', 'No abstract')\n",
        "        print(f\"DOI: {doi}\")\n",
        "        print(f\"Title: {title}\")\n",
        "        print(f\"Abstract: {abstract}\\n\")\n",
        "else:\n",
        "    print(\"Error:\", response.status_code, response.text)"
      ]
    },
    {
      "cell_type": "code",
      "execution_count": 10,
      "metadata": {
        "colab": {
          "base_uri": "https://localhost:8080/"
        },
        "id": "iIkTlVydqNkY",
        "outputId": "024cf49a-8f90-4ebe-cd57-4a3aa70816b1"
      },
      "outputs": [
        {
          "name": "stdout",
          "output_type": "stream",
          "text": [
            "[web mining] Total hasil: 317019\n",
            "DOI: 10.1007/978-3-032-00983-8_5\n",
            "Title: Survey on Data Mining and Machine Learning Methods Used in Analyzing Tweets\n",
            "Abstract: It is observed that the Mental illness by the actions and individual emotions and expressions towards a particular situation. It indicates that Americ...\n",
            "\n",
            "DOI: 10.1007/978-3-031-93802-3_7\n",
            "Title: Unveiling Power Laws in Graph Mining: Techniques and Applications in Graph Query Analysis\n",
            "Abstract: Power laws play a crucial role in understanding the structural and functional properties of real-world graphs, influencing various aspects of graph mi...\n",
            "\n",
            "DOI: 10.1007/978-981-96-7238-7_2\n",
            "Title: Architecture Mining Approach for Systems-of-Systems: Monitoring and Discovery\n",
            "Abstract: Context: Systems of Systems (SoS) constitute a type of complex software systems resulting from integrating heterogeneous constituent systems that are ...\n",
            "\n",
            "DOI: 10.1007/978-3-031-95296-8_15\n",
            "Title: A Mathematical Model and Algorithm for Data Analysis in the Intelligent Management System for Mining and Transport Complexes\n",
            "Abstract: Machine learning methods play an important role in creating algorithms for data analysis in the mining industry. These methods allow you to train the ...\n",
            "\n",
            "DOI: 10.1007/978-3-031-90470-7_6\n",
            "Title: ‘Internet of Things’ and ‘Social Networking’: Containment\n",
            "Abstract: Moving to the post-2000 period, or the post-formation Internet Polity, this chapter begins with the implications of the internet becoming the centred ...\n",
            "\n",
            "DOI: 10.1007/978-3-031-93802-3_10\n",
            "Title: Integrating Graph Convolutional Networks for Web Traffic Prediction\n",
            "Abstract: Web traffic forecasting plays a crucial role in optimizing network resources, enhancing user experience, and ensuring efficient server load management...\n",
            "\n",
            "DOI: 10.1007/978-3-031-93257-1_6\n",
            "Title: Adaptive Web API Recommendation via Matching Service Clusters and Mashup Requirement\n",
            "Abstract: With the rapid proliferation of Web services and Web APIs, recommendation systems can effectively address the issue of information overload and allevi...\n",
            "\n",
            "DOI: 10.1007/978-3-032-02215-8_3\n",
            "Title: Leveraging Machine Learning Techniques for Customer Data Deduplication - Hard-Won Lessons from a Real-World Project in the Financial Industry\n",
            "Abstract: This paper is associated with a tutorial presented at DEXA 2025 Conferences and Workshops. The tutorial shares the practical experience gained from a ...\n",
            "\n",
            "DOI: 10.1007/978-3-031-95296-8_21\n",
            "Title: Intelligent Control System for Ore Transportation and Grinding Process in Gold Mining Fields\n",
            "Abstract: This paper is devoted to optimizing the processes of work using intellectual control systems for the transportation and grinding of ore in gold mining...\n",
            "\n",
            "DOI: 10.1007/978-3-032-02088-8_29\n",
            "Title: Benchmarking Embedding Techniques for Modeling User Navigation Behavior on Task-Oriented Software\n",
            "Abstract: Understanding user navigation patterns from clickstream data is crucial for improving business software, yet remains challenging due to the complexity...\n",
            "\n",
            "[web usage mining] Total hasil: 90635\n",
            "DOI: 10.1007/978-3-031-90470-7_6\n",
            "Title: ‘Internet of Things’ and ‘Social Networking’: Containment\n",
            "Abstract: Moving to the post-2000 period, or the post-formation Internet Polity, this chapter begins with the implications of the internet becoming the centred ...\n",
            "\n",
            "DOI: 10.1007/978-3-032-00983-8_5\n",
            "Title: Survey on Data Mining and Machine Learning Methods Used in Analyzing Tweets\n",
            "Abstract: It is observed that the Mental illness by the actions and individual emotions and expressions towards a particular situation. It indicates that Americ...\n",
            "\n",
            "DOI: 10.1007/978-3-031-93802-3_7\n",
            "Title: Unveiling Power Laws in Graph Mining: Techniques and Applications in Graph Query Analysis\n",
            "Abstract: Power laws play a crucial role in understanding the structural and functional properties of real-world graphs, influencing various aspects of graph mi...\n",
            "\n",
            "DOI: 10.1007/978-3-032-02215-8_7\n",
            "Title: An Enhanced FP-Growth Algorithm with Hybrid Adaptive Support Threshold for Association Rule Mining\n",
            "Abstract: Finding frequent itemsets remains challenging due to manual threshold specification requirements in existing algorithms. This paper presents an Enhanc...\n",
            "\n",
            "DOI: 10.1007/978-3-031-93257-1_6\n",
            "Title: Adaptive Web API Recommendation via Matching Service Clusters and Mashup Requirement\n",
            "Abstract: With the rapid proliferation of Web services and Web APIs, recommendation systems can effectively address the issue of information overload and allevi...\n",
            "\n",
            "DOI: 10.1007/978-3-032-02088-8_29\n",
            "Title: Benchmarking Embedding Techniques for Modeling User Navigation Behavior on Task-Oriented Software\n",
            "Abstract: Understanding user navigation patterns from clickstream data is crucial for improving business software, yet remains challenging due to the complexity...\n",
            "\n",
            "DOI: 10.1007/978-3-032-01723-9_9\n",
            "Title: Analyzing Water Consumption Patterns in Mexico City: A GIS and Data Science Approach\n",
            "Abstract: Water scarcity in Mexico City has become an increasingly urgent issue, exacerbated by inefficient and unequal consumption patterns across its urban fa...\n",
            "\n",
            "DOI: 10.1007/978-981-96-6951-6_19\n",
            "Title: Research on Sensor Behavioral Psychological Health Based on Multi-task Learning\n",
            "Abstract: As society develops, mental health is becoming increasingly important. Traditional mental health assessment methods, such as face-to-face interviews a...\n",
            "\n",
            "DOI: 10.1007/978-3-031-89518-0_1\n",
            "Title: On the Centrality of Web Trackers: Assessing Its Potential for Automated Detection\n",
            "Abstract: For the past 20 years, web tracking has raised worries among privacy advocates and authorities responsible for data protection. Researchers have propo...\n",
            "\n",
            "DOI: 10.1007/978-3-032-02215-8_6\n",
            "Title: FNoDe: Faulty Node Detection in Microservices Architecture\n",
            "Abstract: As cloud services shift from monolithic architectures to microservices, post-failure fault and anomaly detection becomes increasingly challenging due ...\n",
            "\n",
            "[web content mining] Total hasil: 317019\n",
            "DOI: 10.1007/978-3-032-00983-8_5\n",
            "Title: Survey on Data Mining and Machine Learning Methods Used in Analyzing Tweets\n",
            "Abstract: It is observed that the Mental illness by the actions and individual emotions and expressions towards a particular situation. It indicates that Americ...\n",
            "\n",
            "DOI: 10.1007/978-3-031-93802-3_7\n",
            "Title: Unveiling Power Laws in Graph Mining: Techniques and Applications in Graph Query Analysis\n",
            "Abstract: Power laws play a crucial role in understanding the structural and functional properties of real-world graphs, influencing various aspects of graph mi...\n",
            "\n",
            "DOI: 10.1007/978-3-031-90470-7_6\n",
            "Title: ‘Internet of Things’ and ‘Social Networking’: Containment\n",
            "Abstract: Moving to the post-2000 period, or the post-formation Internet Polity, this chapter begins with the implications of the internet becoming the centred ...\n",
            "\n",
            "DOI: 10.1007/978-981-96-7238-7_2\n",
            "Title: Architecture Mining Approach for Systems-of-Systems: Monitoring and Discovery\n",
            "Abstract: Context: Systems of Systems (SoS) constitute a type of complex software systems resulting from integrating heterogeneous constituent systems that are ...\n",
            "\n",
            "DOI: 10.1007/978-3-031-95296-8_15\n",
            "Title: A Mathematical Model and Algorithm for Data Analysis in the Intelligent Management System for Mining and Transport Complexes\n",
            "Abstract: Machine learning methods play an important role in creating algorithms for data analysis in the mining industry. These methods allow you to train the ...\n",
            "\n",
            "DOI: 10.1007/978-3-031-93802-3_10\n",
            "Title: Integrating Graph Convolutional Networks for Web Traffic Prediction\n",
            "Abstract: Web traffic forecasting plays a crucial role in optimizing network resources, enhancing user experience, and ensuring efficient server load management...\n",
            "\n",
            "DOI: 10.1007/978-3-031-93257-1_6\n",
            "Title: Adaptive Web API Recommendation via Matching Service Clusters and Mashup Requirement\n",
            "Abstract: With the rapid proliferation of Web services and Web APIs, recommendation systems can effectively address the issue of information overload and allevi...\n",
            "\n",
            "DOI: 10.1007/978-3-032-02215-8_3\n",
            "Title: Leveraging Machine Learning Techniques for Customer Data Deduplication - Hard-Won Lessons from a Real-World Project in the Financial Industry\n",
            "Abstract: This paper is associated with a tutorial presented at DEXA 2025 Conferences and Workshops. The tutorial shares the practical experience gained from a ...\n",
            "\n",
            "DOI: 10.1007/978-3-031-89518-0_1\n",
            "Title: On the Centrality of Web Trackers: Assessing Its Potential for Automated Detection\n",
            "Abstract: For the past 20 years, web tracking has raised worries among privacy advocates and authorities responsible for data protection. Researchers have propo...\n",
            "\n",
            "DOI: 10.1007/978-3-032-01723-9_10\n",
            "Title: Geospatially-Informed Recommendations for Automobile Purchases: Integrating Spatial Analysis for Enhanced Decision-Making\n",
            "Abstract: This research proposes an integrated recommendation framework to support automobile purchase decisions by aligning consumer preferences with spatial a...\n",
            "\n"
          ]
        }
      ],
      "source": [
        "import requests\n",
        "import csv\n",
        "\n",
        "# API Key Springer\n",
        "api_key = \"ce144a12624a303d0e0047e0bd6349a8\"\n",
        "\n",
        "# Daftar kata kunci pencarian\n",
        "keywords = [\"web mining\", \"web usage mining\", \"web content mining\"]\n",
        "\n",
        "# URL endpoint API Springer\n",
        "url = \"https://api.springernature.com/meta/v2/json\"\n",
        "\n",
        "# Buat file CSV\n",
        "with open(\"springer_crawling.csv\", \"w\", newline=\"\", encoding=\"utf-8\") as csvfile:\n",
        "    writer = csv.writer(csvfile)\n",
        "    # Header CSV\n",
        "    writer.writerow([\"keyword\", \"doi\", \"title\", \"abstract\"])\n",
        "\n",
        "    # Loop setiap keyword\n",
        "    for keyword in keywords:\n",
        "        params = {\n",
        "            \"q\": keyword,\n",
        "            \"api_key\": api_key,\n",
        "            \"p\": 10   # jumlah hasil per query (maks 50 per request)\n",
        "        }\n",
        "\n",
        "        response = requests.get(url, params=params)\n",
        "\n",
        "        if response.status_code == 200:\n",
        "            data = response.json()\n",
        "            total = data['result'][0]['total']\n",
        "            print(f\"[{keyword}] Total hasil: {total}\")\n",
        "\n",
        "            # Simpan ke CSV\n",
        "            for record in data['records']:\n",
        "                doi = record.get('doi', 'N/A')\n",
        "                title = record.get('title', 'No title')\n",
        "                abstract = record.get('abstract', 'No abstract')\n",
        "\n",
        "                writer.writerow([keyword, doi, title, abstract])\n",
        "\n",
        "                # Print di console (opsional)\n",
        "                print(f\"DOI: {doi}\")\n",
        "                print(f\"Title: {title}\")\n",
        "                print(f\"Abstract: {abstract[:150]}...\\n\")\n",
        "        else:\n",
        "            print(f\"Error {response.status_code} untuk keyword {keyword}\")"
      ]
    },
    {
      "cell_type": "markdown",
      "metadata": {
        "id": "a38f7cc1"
      },
      "source": [
        "## Simpan Hasil ke CSV"
      ]
    },
    {
      "cell_type": "code",
      "execution_count": 11,
      "metadata": {
        "colab": {
          "base_uri": "https://localhost:8080/"
        },
        "id": "31d2851d",
        "outputId": "31abc796-3c98-47e3-baad-5b45e7d0a2e5"
      },
      "outputs": [
        {
          "name": "stdout",
          "output_type": "stream",
          "text": [
            "Belum ada hasil crawling. Pastikan sudah menjalankan proses crawling.\n"
          ]
        }
      ],
      "source": [
        "# --- Simpan hasil crawling ke CSV ---\n",
        "import pandas as pd\n",
        "\n",
        "if 'all_results' in globals() and all_results:\n",
        "    df = pd.DataFrame(all_results)\n",
        "    output_csv = \"crawling_results.csv\"\n",
        "    df.to_csv(output_csv, index=False, encoding=\"utf-8\")\n",
        "    print(f\"Hasil crawling berhasil disimpan ke {output_csv} dengan {len(df)} baris.\")\n",
        "    display(df.head(10))\n",
        "else:\n",
        "    print(\"Belum ada hasil crawling. Pastikan sudah menjalankan proses crawling.\")"
      ]
    },
    {
      "cell_type": "code",
      "execution_count": 12,
      "metadata": {
        "colab": {
          "base_uri": "https://localhost:8080/",
          "height": 35
        },
        "id": "02070a3b",
        "outputId": "25773bd0-c135-45f2-8701-9631c19856a9"
      },
      "outputs": [
        {
          "data": {
            "application/javascript": "\n    async function download(id, filename, size) {\n      if (!google.colab.kernel.accessAllowed) {\n        return;\n      }\n      const div = document.createElement('div');\n      const label = document.createElement('label');\n      label.textContent = `Downloading \"${filename}\": `;\n      div.appendChild(label);\n      const progress = document.createElement('progress');\n      progress.max = size;\n      div.appendChild(progress);\n      document.body.appendChild(div);\n\n      const buffers = [];\n      let downloaded = 0;\n\n      const channel = await google.colab.kernel.comms.open(id);\n      // Send a message to notify the kernel that we're ready.\n      channel.send({})\n\n      for await (const message of channel.messages) {\n        // Send a message to notify the kernel that we're ready.\n        channel.send({})\n        if (message.buffers) {\n          for (const buffer of message.buffers) {\n            buffers.push(buffer);\n            downloaded += buffer.byteLength;\n            progress.value = downloaded;\n          }\n        }\n      }\n      const blob = new Blob(buffers, {type: 'application/binary'});\n      const a = document.createElement('a');\n      a.href = window.URL.createObjectURL(blob);\n      a.download = filename;\n      div.appendChild(a);\n      a.click();\n      div.remove();\n    }\n  ",
            "text/plain": [
              "<IPython.core.display.Javascript object>"
            ]
          },
          "metadata": {},
          "output_type": "display_data"
        },
        {
          "data": {
            "application/javascript": "download(\"download_8e77378c-52c4-4e7a-891c-fa0f3e02ec6b\", \"springer_crawling.csv\", 40417)",
            "text/plain": [
              "<IPython.core.display.Javascript object>"
            ]
          },
          "metadata": {},
          "output_type": "display_data"
        },
        {
          "name": "stdout",
          "output_type": "stream",
          "text": [
            "File 'springer_crawling.csv' berhasil diunduh.\n"
          ]
        }
      ],
      "source": [
        "from google.colab import files\n",
        "\n",
        "# Nama file CSV yang ingin diunduh\n",
        "output_csv_filename = \"springer_crawling.csv\"\n",
        "\n",
        "try:\n",
        "    files.download(output_csv_filename)\n",
        "    print(f\"File '{output_csv_filename}' berhasil diunduh.\")\n",
        "except FileNotFoundError:\n",
        "    print(f\"File '{output_csv_filename}' tidak ditemukan. Pastikan file sudah dibuat.\")"
      ]
    },
    {
      "cell_type": "markdown",
      "metadata": {
        "id": "1299bc08"
      },
      "source": [
        "## Simpan Hasil ke CSV\n",
        "\n",
        "Kode di sel ini bertanggung jawab untuk melakukan crawling data dari API Springer Nature berdasarkan daftar kata kunci yang telah ditentukan dan menyimpannya ke dalam file CSV lokal.\n",
        "\n",
        "**Langkah-langkah yang dilakukan:**\n",
        "\n",
        "1.  **Import Library:** Mengimpor library `requests` untuk membuat permintaan HTTP ke API dan `csv` untuk bekerja dengan file CSV.\n",
        "2.  **Inisialisasi Variabel:** Menentukan API Key Springer Anda, daftar kata kunci yang akan dicari, dan URL endpoint API.\n",
        "3.  **Membuat File CSV:** Membuka (atau membuat jika belum ada) file CSV bernama `springer_crawling.csv` dalam mode tulis (`\"w\"`). `newline=\"\"` mencegah penambahan baris kosong di antara baris, dan `encoding=\"utf-8\"` memastikan karakter khusus dapat ditangani dengan benar.\n",
        "4.  **Menulis Header CSV:** Menulis baris header ke file CSV, yang akan menjadi nama kolom data (keyword, doi, title, abstract).\n",
        "5.  **Loop Kata Kunci:** Mengiterasi melalui setiap kata kunci dalam daftar `keywords`.\n",
        "6.  **Membuat Permintaan API:** Untuk setiap kata kunci, membuat dictionary `params` yang berisi parameter query (kata kunci, API key, dan jumlah hasil per halaman `p`). Kemudian, menggunakan `requests.get()` untuk mengirim permintaan GET ke API Springer.\n",
        "7.  **Memeriksa Status Respon:** Memeriksa apakah status kode respon adalah 200 (OK). Jika ya, ini berarti permintaan berhasil.\n",
        "8.  **Memproses Data Hasil:** Jika permintaan berhasil, mengurai respon JSON menjadi dictionary Python. Mengakses total hasil dari data.\n",
        "9.  **Menyimpan ke CSV:** Mengiterasi melalui setiap `record` (artikel/publikasi) dalam respon data. Mengekstrak informasi seperti DOI, judul, dan abstrak. Menggunakan `writer.writerow()` untuk menulis baris data ke file CSV.\n",
        "10. **Menampilkan Hasil (Opsional):** Mencetak informasi DOI, judul, dan sebagian abstrak ke konsol untuk memantau proses.\n",
        "11. **Menangani Error:** Jika status kode respon bukan 200, mencetak pesan error.\n",
        "\n",
        "Setelah sel ini selesai dieksekusi, Anda akan memiliki file `springer_crawling.csv` yang berisi data hasil crawling untuk setiap kata kunci."
      ]
    }
  ],
  "metadata": {
    "colab": {
      "provenance": []
    },
    "kernelspec": {
      "display_name": "Python 3",
      "name": "python3"
    },
    "language_info": {
      "name": "python"
    }
  },
  "nbformat": 4,
  "nbformat_minor": 0
}
