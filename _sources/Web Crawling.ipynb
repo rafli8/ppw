{
  "cells": [
    {
      "cell_type": "markdown",
      "metadata": {
        "id": "gBhcPhKCyZ5_"
      },
      "source": [
        "# crawling\n",
        "\n",
        "## tugas melakukan crawling\n",
        "\n",
        "## Langkah-langkah mengerjakan\n",
        "Siapkan website untuk kalian crawling, dalam contoh kasus ini kita akan mengambil jurnal yang ada di website springer nature. Selanjutnya, buka website https://dev.springernature.com/ lalu buat akun untuk mendapat API yang kalian butuhkan (meta API), copy API yang kalian dapatkan dan paste ke kode yang telah kalian buat.\n",
        "\n",
        "Setelah itu, ketikkan kata kunci yang ingin kalian cari di kode bagian q:\"(disini kalian isi apa yang kalian inginn cari)\" kemudian run kode lalu setelah itu akan muncul semua judul yang mencakup kata kunci yang telah diketikkan sebelumnya. Dan, buat kode untuk mengkonversikan output dari kode kalian menjadi file csv."
      ]
    },
    {
      "cell_type": "code",
      "execution_count": 13,
      "metadata": {
        "colab": {
          "base_uri": "https://localhost:8080/"
        },
        "id": "KMZoZ0zrmKaH",
        "outputId": "3532eadf-2778-4599-812d-492ddf5e4920"
      },
      "outputs": [
        {
          "name": "stdout",
          "output_type": "stream",
          "text": [
            "Requirement already satisfied: sprynger in /usr/local/python/3.12.1/lib/python3.12/site-packages (0.4.1)\n",
            "Requirement already satisfied: lxml in /usr/local/python/3.12.1/lib/python3.12/site-packages (from sprynger) (6.0.1)\n",
            "Requirement already satisfied: requests in /home/codespace/.local/lib/python3.12/site-packages (from sprynger) (2.32.4)\n",
            "Requirement already satisfied: urllib3 in /home/codespace/.local/lib/python3.12/site-packages (from sprynger) (2.5.0)\n",
            "Requirement already satisfied: platformdirs in /home/codespace/.local/lib/python3.12/site-packages (from sprynger) (4.3.8)\n",
            "Requirement already satisfied: charset_normalizer<4,>=2 in /home/codespace/.local/lib/python3.12/site-packages (from requests->sprynger) (3.4.2)\n",
            "Requirement already satisfied: idna<4,>=2.5 in /home/codespace/.local/lib/python3.12/site-packages (from requests->sprynger) (3.10)\n",
            "Requirement already satisfied: certifi>=2017.4.17 in /home/codespace/.local/lib/python3.12/site-packages (from requests->sprynger) (2025.7.9)\n",
            "\n",
            "\u001b[1m[\u001b[0m\u001b[34;49mnotice\u001b[0m\u001b[1;39;49m]\u001b[0m\u001b[39;49m A new release of pip is available: \u001b[0m\u001b[31;49m25.1.1\u001b[0m\u001b[39;49m -> \u001b[0m\u001b[32;49m25.2\u001b[0m\n",
            "\u001b[1m[\u001b[0m\u001b[34;49mnotice\u001b[0m\u001b[1;39;49m]\u001b[0m\u001b[39;49m To update, run: \u001b[0m\u001b[32;49mpython -m pip install --upgrade pip\u001b[0m\n",
            "Note: you may need to restart the kernel to use updated packages.\n"
          ]
        }
      ],
      "source": [
        "pip install sprynger"
      ]
    },
    {
      "cell_type": "code",
      "execution_count": 14,
      "metadata": {},
      "outputs": [
        {
          "name": "stdout",
          "output_type": "stream",
          "text": [
            "Requirement already satisfied: beautifulsoup4 in /home/codespace/.local/lib/python3.12/site-packages (4.13.4)\n",
            "Requirement already satisfied: soupsieve>1.2 in /home/codespace/.local/lib/python3.12/site-packages (from beautifulsoup4) (2.7)\n",
            "Requirement already satisfied: typing-extensions>=4.0.0 in /home/codespace/.local/lib/python3.12/site-packages (from beautifulsoup4) (4.14.1)\n",
            "\n",
            "\u001b[1m[\u001b[0m\u001b[34;49mnotice\u001b[0m\u001b[1;39;49m]\u001b[0m\u001b[39;49m A new release of pip is available: \u001b[0m\u001b[31;49m25.1.1\u001b[0m\u001b[39;49m -> \u001b[0m\u001b[32;49m25.2\u001b[0m\n",
            "\u001b[1m[\u001b[0m\u001b[34;49mnotice\u001b[0m\u001b[1;39;49m]\u001b[0m\u001b[39;49m To update, run: \u001b[0m\u001b[32;49mpython -m pip install --upgrade pip\u001b[0m\n",
            "Note: you may need to restart the kernel to use updated packages.\n"
          ]
        }
      ],
      "source": [
        "\n",
        "pip install beautifulsoup4"
      ]
    },
    {
      "cell_type": "code",
      "execution_count": 15,
      "metadata": {},
      "outputs": [
        {
          "name": "stdout",
          "output_type": "stream",
          "text": [
            "Total hasil yang ditemukan: 1276\n",
            "\n",
            "--- Data Artikel dari Springer Nature ---\n"
          ]
        },
        {
          "data": {
            "text/html": [
              "<div>\n",
              "<style scoped>\n",
              "    .dataframe tbody tr th:only-of-type {\n",
              "        vertical-align: middle;\n",
              "    }\n",
              "\n",
              "    .dataframe tbody tr th {\n",
              "        vertical-align: top;\n",
              "    }\n",
              "\n",
              "    .dataframe thead th {\n",
              "        text-align: right;\n",
              "    }\n",
              "</style>\n",
              "<table border=\"1\" class=\"dataframe\">\n",
              "  <thead>\n",
              "    <tr style=\"text-align: right;\">\n",
              "      <th></th>\n",
              "      <th>DOI</th>\n",
              "      <th>Title</th>\n",
              "      <th>Abstract</th>\n",
              "    </tr>\n",
              "  </thead>\n",
              "  <tbody>\n",
              "    <tr>\n",
              "      <th>0</th>\n",
              "      <td>10.1007/s11301-025-00551-3</td>\n",
              "      <td>Combined use of web scraping and AI-based mode...</td>\n",
              "      <td>Online data are instrumental in knowledge gene...</td>\n",
              "    </tr>\n",
              "    <tr>\n",
              "      <th>1</th>\n",
              "      <td>10.1007/s41060-024-00659-x</td>\n",
              "      <td>Sequential pattern mining algorithms and their...</td>\n",
              "      <td>Sequential pattern mining (SPM) is a useful to...</td>\n",
              "    </tr>\n",
              "    <tr>\n",
              "      <th>2</th>\n",
              "      <td>10.1007/s41060-023-00483-9</td>\n",
              "      <td>Artificial intelligence trend analysis in Germ...</td>\n",
              "      <td>Current research on trend detection in artific...</td>\n",
              "    </tr>\n",
              "    <tr>\n",
              "      <th>3</th>\n",
              "      <td>10.1007/s10586-025-05382-1</td>\n",
              "      <td>Task offloading for multi-UAV asset edge compu...</td>\n",
              "      <td>Mobile Edge Computing (MEC) addresses the dema...</td>\n",
              "    </tr>\n",
              "    <tr>\n",
              "      <th>4</th>\n",
              "      <td>10.1007/s42979-025-04141-8</td>\n",
              "      <td>Taxonomy of Opinion Mining, Approaches and Dom...</td>\n",
              "      <td>Opinion Mining (OM), or Sentiment Analysis (SA...</td>\n",
              "    </tr>\n",
              "    <tr>\n",
              "      <th>5</th>\n",
              "      <td>10.1007/s10462-025-11203-z</td>\n",
              "      <td>Web Intelligence (WI) 3.0: in search of a bett...</td>\n",
              "      <td>Over the past two decades, Web Intelligence (W...</td>\n",
              "    </tr>\n",
              "    <tr>\n",
              "      <th>6</th>\n",
              "      <td>10.1007/s42979-025-03942-1</td>\n",
              "      <td>A Contemporary Framework for Detection of Phis...</td>\n",
              "      <td>In today’s digital age, phishing is a signific...</td>\n",
              "    </tr>\n",
              "    <tr>\n",
              "      <th>7</th>\n",
              "      <td>10.1007/s41471-025-00208-7</td>\n",
              "      <td>Collecting and Analyzing User-Generated Conten...</td>\n",
              "      <td>User-generated content (UGC) is generally unde...</td>\n",
              "    </tr>\n",
              "    <tr>\n",
              "      <th>8</th>\n",
              "      <td>10.1007/s11227-025-06997-2</td>\n",
              "      <td>Mining transactional tree databases under home...</td>\n",
              "      <td>A key task in mining tree-structured data is f...</td>\n",
              "    </tr>\n",
              "    <tr>\n",
              "      <th>9</th>\n",
              "      <td>10.1038/s44183-025-00104-x</td>\n",
              "      <td>Major data gaps and recommendations in monitor...</td>\n",
              "      <td>Marine Protected Areas (MPAs) play a central r...</td>\n",
              "    </tr>\n",
              "  </tbody>\n",
              "</table>\n",
              "</div>"
            ],
            "text/plain": [
              "                          DOI  \\\n",
              "0  10.1007/s11301-025-00551-3   \n",
              "1  10.1007/s41060-024-00659-x   \n",
              "2  10.1007/s41060-023-00483-9   \n",
              "3  10.1007/s10586-025-05382-1   \n",
              "4  10.1007/s42979-025-04141-8   \n",
              "5  10.1007/s10462-025-11203-z   \n",
              "6  10.1007/s42979-025-03942-1   \n",
              "7  10.1007/s41471-025-00208-7   \n",
              "8  10.1007/s11227-025-06997-2   \n",
              "9  10.1038/s44183-025-00104-x   \n",
              "\n",
              "                                               Title  \\\n",
              "0  Combined use of web scraping and AI-based mode...   \n",
              "1  Sequential pattern mining algorithms and their...   \n",
              "2  Artificial intelligence trend analysis in Germ...   \n",
              "3  Task offloading for multi-UAV asset edge compu...   \n",
              "4  Taxonomy of Opinion Mining, Approaches and Dom...   \n",
              "5  Web Intelligence (WI) 3.0: in search of a bett...   \n",
              "6  A Contemporary Framework for Detection of Phis...   \n",
              "7  Collecting and Analyzing User-Generated Conten...   \n",
              "8  Mining transactional tree databases under home...   \n",
              "9  Major data gaps and recommendations in monitor...   \n",
              "\n",
              "                                            Abstract  \n",
              "0  Online data are instrumental in knowledge gene...  \n",
              "1  Sequential pattern mining (SPM) is a useful to...  \n",
              "2  Current research on trend detection in artific...  \n",
              "3  Mobile Edge Computing (MEC) addresses the dema...  \n",
              "4  Opinion Mining (OM), or Sentiment Analysis (SA...  \n",
              "5  Over the past two decades, Web Intelligence (W...  \n",
              "6  In today’s digital age, phishing is a signific...  \n",
              "7  User-generated content (UGC) is generally unde...  \n",
              "8  A key task in mining tree-structured data is f...  \n",
              "9  Marine Protected Areas (MPAs) play a central r...  "
            ]
          },
          "execution_count": 15,
          "metadata": {},
          "output_type": "execute_result"
        }
      ],
      "source": [
        "import requests\n",
        "import pandas as pd\n",
        "from bs4 import BeautifulSoup\n",
        "\n",
        "def get_springer_articles():\n",
        "    # Silahkan membuat api key dari https://dev.springernature.com/#api\n",
        "    api_key = \"2def46e8e42b4d8e38abfc96e27b31d5\"\n",
        "    \n",
        "    url = \"https://api.springernature.com/meta/v2/json\"\n",
        "    params = {\n",
        "        \"q\": \"web mining,web usage mining\",\n",
        "        \"api_key\": api_key,\n",
        "        \"p\": 10  # Jumlah artikel yang ingin diambil\n",
        "    }\n",
        "\n",
        "    # Siapkan dictionary untuk menampung data\n",
        "    data_tabel = {\n",
        "        \"DOI\": [],\n",
        "        \"Title\": [],\n",
        "        \"Abstract\": []\n",
        "    }\n",
        "\n",
        "    try:\n",
        "        response = requests.get(url, params=params)\n",
        "        response.raise_for_status()  # Ini akan menampilkan error jika request gagal\n",
        "\n",
        "        data = response.json()\n",
        "        \n",
        "        print(f\"Total hasil yang ditemukan: {data.get('result', [{}])[0].get('total', 'N/A')}\\n\")\n",
        "\n",
        "        # Mengisi dictionary dengan data dari API\n",
        "        for record in data.get('records', []):\n",
        "            data_tabel[\"DOI\"].append(record.get('doi', 'N/A'))\n",
        "            data_tabel[\"Title\"].append(record.get('title', 'No title'))\n",
        "            \n",
        "            # Mengambil abstrak dan membersihkannya dari tag HTML\n",
        "            abstract_raw = record.get('abstract', 'No abstract')\n",
        "            soup = BeautifulSoup(abstract_raw, 'html.parser')\n",
        "            abstract_clean = soup.get_text()\n",
        "            data_tabel[\"Abstract\"].append(abstract_clean)\n",
        "\n",
        "    except requests.exceptions.RequestException as e:\n",
        "        print(f\"Error saat mengakses API: {e}\")\n",
        "        return pd.DataFrame(data_tabel) # Mengembalikan DataFrame kosong jika error\n",
        "\n",
        "    # MEKANISME PENYIMPANAN DAN TAMPILAN OUTPUT\n",
        "    df = pd.DataFrame(data_tabel)\n",
        "    df.to_csv(\"springer_articles.csv\", index=False)\n",
        "    \n",
        "    # Menampilkan DataFrame\n",
        "    print(\"--- Data Artikel dari Springer Nature ---\")\n",
        "    return df\n",
        "\n",
        "# Menjalankan fungsi dan menampilkan hasilnya\n",
        "get_springer_articles()"
      ]
    }
  ],
  "metadata": {
    "colab": {
      "provenance": []
    },
    "kernelspec": {
      "display_name": "Python 3",
      "name": "python3"
    },
    "language_info": {
      "codemirror_mode": {
        "name": "ipython",
        "version": 3
      },
      "file_extension": ".py",
      "mimetype": "text/x-python",
      "name": "python",
      "nbconvert_exporter": "python",
      "pygments_lexer": "ipython3",
      "version": "3.12.1"
    }
  },
  "nbformat": 4,
  "nbformat_minor": 0
}
